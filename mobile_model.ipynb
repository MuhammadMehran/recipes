{
 "cells": [
  {
   "cell_type": "code",
   "execution_count": 1,
   "metadata": {},
   "outputs": [],
   "source": [
    "import json"
   ]
  },
  {
   "cell_type": "code",
   "execution_count": 2,
   "metadata": {},
   "outputs": [],
   "source": [
    "with open('recipes.json', encoding=\"utf8\") as f:\n",
    "    data = json.load(f)\n"
   ]
  },
  {
   "cell_type": "code",
   "execution_count": 3,
   "metadata": {},
   "outputs": [],
   "source": [
    "from pandas.io.json import json_normalize\n",
    "df = json_normalize(data[2]['data'])"
   ]
  },
  {
   "cell_type": "code",
   "execution_count": 4,
   "metadata": {},
   "outputs": [
    {
     "data": {
      "text/html": [
       "<div>\n",
       "<style scoped>\n",
       "    .dataframe tbody tr th:only-of-type {\n",
       "        vertical-align: middle;\n",
       "    }\n",
       "\n",
       "    .dataframe tbody tr th {\n",
       "        vertical-align: top;\n",
       "    }\n",
       "\n",
       "    .dataframe thead th {\n",
       "        text-align: right;\n",
       "    }\n",
       "</style>\n",
       "<table border=\"1\" class=\"dataframe\">\n",
       "  <thead>\n",
       "    <tr style=\"text-align: right;\">\n",
       "      <th></th>\n",
       "      <th>id</th>\n",
       "      <th>name</th>\n",
       "      <th>ingredients</th>\n",
       "      <th>method</th>\n",
       "      <th>image</th>\n",
       "      <th>video</th>\n",
       "    </tr>\n",
       "  </thead>\n",
       "  <tbody>\n",
       "    <tr>\n",
       "      <td>0</td>\n",
       "      <td>1</td>\n",
       "      <td>KALAKAND SWEET / MITHAI</td>\n",
       "      <td>Milk powder 2 cups~Sugar  1/2 cup or to taste~...</td>\n",
       "      <td>In a heat resistant bowl add powder milk, crea...</td>\n",
       "      <td>http://www.ainycooks.com/wp-content/uploads/20...</td>\n",
       "      <td>https://www.youtube.com/embed/8ApA0f7vs00</td>\n",
       "    </tr>\n",
       "    <tr>\n",
       "      <td>1</td>\n",
       "      <td>2</td>\n",
       "      <td>ARIZONA CHICKEN STEAK</td>\n",
       "      <td>Chicken fillets 2 flattened~Salt to tatse~Whit...</td>\n",
       "      <td>Marinate chicken fillet with salt, pepper, mus...</td>\n",
       "      <td>http://www.ainycooks.com/wp-content/uploads/20...</td>\n",
       "      <td>None</td>\n",
       "    </tr>\n",
       "    <tr>\n",
       "      <td>2</td>\n",
       "      <td>3</td>\n",
       "      <td>CHICKEN CREAMY PIE</td>\n",
       "      <td>Chicken boiled and shredded  1 cup~Onion chopp...</td>\n",
       "      <td>In a pan add butter and onion, stir it for few...</td>\n",
       "      <td>http://www.ainycooks.com/wp-content/uploads/20...</td>\n",
       "      <td>None</td>\n",
       "    </tr>\n",
       "    <tr>\n",
       "      <td>3</td>\n",
       "      <td>4</td>\n",
       "      <td>2 INGREDIENTS CHOCOLATE MOUSSE</td>\n",
       "      <td>Cooking Chocolate / Milk chocolate  200g~Whipp...</td>\n",
       "      <td>Add 1/2 cup cream in chocolate and microwave i...</td>\n",
       "      <td>http://www.ainycooks.com/wp-content/uploads/20...</td>\n",
       "      <td>None</td>\n",
       "    </tr>\n",
       "    <tr>\n",
       "      <td>4</td>\n",
       "      <td>5</td>\n",
       "      <td>KARACHI FAMOUS STUDENT BIRYANI</td>\n",
       "      <td>Rice Basmati 1/2 kg~Chicken  1/2 kg~Red chili ...</td>\n",
       "      <td>Soak rice for 20 minutes.~Boil rice and add sa...</td>\n",
       "      <td>http://www.ainycooks.com/wp-content/uploads/20...</td>\n",
       "      <td>None</td>\n",
       "    </tr>\n",
       "  </tbody>\n",
       "</table>\n",
       "</div>"
      ],
      "text/plain": [
       "  id                            name  \\\n",
       "0  1         KALAKAND SWEET / MITHAI   \n",
       "1  2           ARIZONA CHICKEN STEAK   \n",
       "2  3              CHICKEN CREAMY PIE   \n",
       "3  4  2 INGREDIENTS CHOCOLATE MOUSSE   \n",
       "4  5  KARACHI FAMOUS STUDENT BIRYANI   \n",
       "\n",
       "                                         ingredients  \\\n",
       "0  Milk powder 2 cups~Sugar  1/2 cup or to taste~...   \n",
       "1  Chicken fillets 2 flattened~Salt to tatse~Whit...   \n",
       "2  Chicken boiled and shredded  1 cup~Onion chopp...   \n",
       "3  Cooking Chocolate / Milk chocolate  200g~Whipp...   \n",
       "4  Rice Basmati 1/2 kg~Chicken  1/2 kg~Red chili ...   \n",
       "\n",
       "                                              method  \\\n",
       "0  In a heat resistant bowl add powder milk, crea...   \n",
       "1  Marinate chicken fillet with salt, pepper, mus...   \n",
       "2  In a pan add butter and onion, stir it for few...   \n",
       "3  Add 1/2 cup cream in chocolate and microwave i...   \n",
       "4  Soak rice for 20 minutes.~Boil rice and add sa...   \n",
       "\n",
       "                                               image  \\\n",
       "0  http://www.ainycooks.com/wp-content/uploads/20...   \n",
       "1  http://www.ainycooks.com/wp-content/uploads/20...   \n",
       "2  http://www.ainycooks.com/wp-content/uploads/20...   \n",
       "3  http://www.ainycooks.com/wp-content/uploads/20...   \n",
       "4  http://www.ainycooks.com/wp-content/uploads/20...   \n",
       "\n",
       "                                       video  \n",
       "0  https://www.youtube.com/embed/8ApA0f7vs00  \n",
       "1                                       None  \n",
       "2                                       None  \n",
       "3                                       None  \n",
       "4                                       None  "
      ]
     },
     "execution_count": 4,
     "metadata": {},
     "output_type": "execute_result"
    }
   ],
   "source": [
    "df.head()"
   ]
  },
  {
   "cell_type": "code",
   "execution_count": 5,
   "metadata": {},
   "outputs": [
    {
     "name": "stderr",
     "output_type": "stream",
     "text": [
      "Using TensorFlow backend.\n"
     ]
    }
   ],
   "source": [
    "import numpy as np # linear algebra\n",
    "import pandas as pd # data processing, CSV file I/O (e.g. pd.read_csv)\n",
    "import matplotlib.pyplot as plt\n",
    "plt.style.use('ggplot')\n",
    "\n",
    "from sklearn.feature_extraction.text import CountVectorizer\n",
    "from sklearn.model_selection import train_test_split\n",
    "from sklearn.linear_model import LogisticRegression\n",
    "from sklearn.preprocessing import LabelEncoder\n",
    "from sklearn.preprocessing import OneHotEncoder\n",
    "from sklearn.model_selection import RandomizedSearchCV\n",
    "\n",
    "from keras.models import Sequential\n",
    "from keras import layers\n",
    "from keras.preprocessing.text import Tokenizer\n",
    "from keras.preprocessing.sequence import pad_sequences\n",
    "from keras.wrappers.scikit_learn import KerasClassifier"
   ]
  },
  {
   "cell_type": "code",
   "execution_count": 6,
   "metadata": {},
   "outputs": [],
   "source": [
    "from nltk.corpus import stopwords\n",
    "from nltk.tokenize import word_tokenize\n",
    "from nltk.stem import PorterStemmer\n",
    "from nltk.tokenize import sent_tokenize, word_tokenize\n",
    "\n",
    "ps = PorterStemmer()"
   ]
  },
  {
   "cell_type": "code",
   "execution_count": 7,
   "metadata": {},
   "outputs": [],
   "source": [
    "import re"
   ]
  },
  {
   "cell_type": "code",
   "execution_count": 8,
   "metadata": {},
   "outputs": [],
   "source": [
    "datas = []\n",
    "for index, row in df.iterrows():\n",
    "    ings = row['ingredients'].replace(' ','')\n",
    "    ings = ings.split('~')\n",
    "    data = {}\n",
    "    data['recipie'] = row['name']\n",
    "    data['ingredients'] = ings\n",
    "    datas.append(data)"
   ]
  },
  {
   "cell_type": "code",
   "execution_count": 9,
   "metadata": {},
   "outputs": [],
   "source": [
    "df = json_normalize(datas)"
   ]
  },
  {
   "cell_type": "code",
   "execution_count": 10,
   "metadata": {},
   "outputs": [
    {
     "data": {
      "text/html": [
       "<div>\n",
       "<style scoped>\n",
       "    .dataframe tbody tr th:only-of-type {\n",
       "        vertical-align: middle;\n",
       "    }\n",
       "\n",
       "    .dataframe tbody tr th {\n",
       "        vertical-align: top;\n",
       "    }\n",
       "\n",
       "    .dataframe thead th {\n",
       "        text-align: right;\n",
       "    }\n",
       "</style>\n",
       "<table border=\"1\" class=\"dataframe\">\n",
       "  <thead>\n",
       "    <tr style=\"text-align: right;\">\n",
       "      <th></th>\n",
       "      <th>recipie</th>\n",
       "      <th>ingredients</th>\n",
       "    </tr>\n",
       "  </thead>\n",
       "  <tbody>\n",
       "    <tr>\n",
       "      <td>0</td>\n",
       "      <td>KALAKAND SWEET / MITHAI</td>\n",
       "      <td>[Milkpowder2cups, Sugar1/2cuportotaste, Cream2...</td>\n",
       "    </tr>\n",
       "    <tr>\n",
       "      <td>1</td>\n",
       "      <td>ARIZONA CHICKEN STEAK</td>\n",
       "      <td>[Chickenfillets2flattened, Salttotatse, Whitep...</td>\n",
       "    </tr>\n",
       "    <tr>\n",
       "      <td>2</td>\n",
       "      <td>CHICKEN CREAMY PIE</td>\n",
       "      <td>[Chickenboiledandshredded1cup, Onionchopped1me...</td>\n",
       "    </tr>\n",
       "    <tr>\n",
       "      <td>3</td>\n",
       "      <td>2 INGREDIENTS CHOCOLATE MOUSSE</td>\n",
       "      <td>[CookingChocolate/Milkchocolate200g, Whippingc...</td>\n",
       "    </tr>\n",
       "    <tr>\n",
       "      <td>4</td>\n",
       "      <td>KARACHI FAMOUS STUDENT BIRYANI</td>\n",
       "      <td>[RiceBasmati1/2kg, Chicken1/2kg, Redchilipowde...</td>\n",
       "    </tr>\n",
       "  </tbody>\n",
       "</table>\n",
       "</div>"
      ],
      "text/plain": [
       "                          recipie  \\\n",
       "0         KALAKAND SWEET / MITHAI   \n",
       "1           ARIZONA CHICKEN STEAK   \n",
       "2              CHICKEN CREAMY PIE   \n",
       "3  2 INGREDIENTS CHOCOLATE MOUSSE   \n",
       "4  KARACHI FAMOUS STUDENT BIRYANI   \n",
       "\n",
       "                                         ingredients  \n",
       "0  [Milkpowder2cups, Sugar1/2cuportotaste, Cream2...  \n",
       "1  [Chickenfillets2flattened, Salttotatse, Whitep...  \n",
       "2  [Chickenboiledandshredded1cup, Onionchopped1me...  \n",
       "3  [CookingChocolate/Milkchocolate200g, Whippingc...  \n",
       "4  [RiceBasmati1/2kg, Chicken1/2kg, Redchilipowde...  "
      ]
     },
     "execution_count": 10,
     "metadata": {},
     "output_type": "execute_result"
    }
   ],
   "source": [
    "df.head()"
   ]
  },
  {
   "cell_type": "code",
   "execution_count": 11,
   "metadata": {},
   "outputs": [],
   "source": [
    "new = []\n",
    "for s in df['ingredients']:\n",
    "    s = ' '.join(s)\n",
    "    new.append(s)\n",
    "df['ing'] = new\n",
    "l=[]\n",
    "for s in df['ing']:\n",
    "    \n",
    "    #Remove punctuations\n",
    "    s=re.sub(r'\\(.*oz.\\)|tte|kg|crushed|crumbles|ground|minced|tsp|tbsp|as|required|for|powder|chopped|sliced|pinch|cup|/|ml|[0-9]',\n",
    "                             '', \n",
    "                             s)\n",
    "    \n",
    "    #Remove Digits\n",
    "    s=re.sub(r\"(\\d)\", \"\", s)\n",
    "    \n",
    "    #Remove content inside paranthesis\n",
    "    s=re.sub(r'\\([^)]*\\)', '', s)\n",
    "    \n",
    "    #Remove Brand Name\n",
    "    s=re.sub(u'\\w*\\u2122', '', s)\n",
    "    \n",
    "    #Convert to lowercase\n",
    "    s=s.lower()\n",
    "    \n",
    "    #Remove Stop Words\n",
    "    stop_words = set(stopwords.words('english'))\n",
    "    word_tokens = word_tokenize(s)\n",
    "    filtered_sentence = [w for w in word_tokens if not w in stop_words]\n",
    "    filtered_sentence = []\n",
    "    for w in word_tokens:\n",
    "        if w not in stop_words:\n",
    "            filtered_sentence.append(w)\n",
    "    s= ' '.join(filtered_sentence)\n",
    "    \n",
    "    l.append(s)\n",
    "df['ing_mod']=l"
   ]
  },
  {
   "cell_type": "code",
   "execution_count": 12,
   "metadata": {},
   "outputs": [
    {
     "data": {
      "text/html": [
       "<div>\n",
       "<style scoped>\n",
       "    .dataframe tbody tr th:only-of-type {\n",
       "        vertical-align: middle;\n",
       "    }\n",
       "\n",
       "    .dataframe tbody tr th {\n",
       "        vertical-align: top;\n",
       "    }\n",
       "\n",
       "    .dataframe thead th {\n",
       "        text-align: right;\n",
       "    }\n",
       "</style>\n",
       "<table border=\"1\" class=\"dataframe\">\n",
       "  <thead>\n",
       "    <tr style=\"text-align: right;\">\n",
       "      <th></th>\n",
       "      <th>recipie</th>\n",
       "      <th>ingredients</th>\n",
       "      <th>ing</th>\n",
       "      <th>ing_mod</th>\n",
       "    </tr>\n",
       "  </thead>\n",
       "  <tbody>\n",
       "    <tr>\n",
       "      <td>0</td>\n",
       "      <td>KALAKAND SWEET / MITHAI</td>\n",
       "      <td>[Milkpowder2cups, Sugar1/2cuportotaste, Cream2...</td>\n",
       "      <td>Milkpowder2cups Sugar1/2cuportotaste Cream200m...</td>\n",
       "      <td>milks sugarortotte cream nuts</td>\n",
       "    </tr>\n",
       "    <tr>\n",
       "      <td>1</td>\n",
       "      <td>ARIZONA CHICKEN STEAK</td>\n",
       "      <td>[Chickenfillets2flattened, Salttotatse, Whitep...</td>\n",
       "      <td>Chickenfillets2flattened Salttotatse Whitepepp...</td>\n",
       "      <td>chickenfilletsflaned salttotatse whitepepper b...</td>\n",
       "    </tr>\n",
       "    <tr>\n",
       "      <td>2</td>\n",
       "      <td>CHICKEN CREAMY PIE</td>\n",
       "      <td>[Chickenboiledandshredded1cup, Onionchopped1me...</td>\n",
       "      <td>Chickenboiledandshredded1cup Onionchopped1medi...</td>\n",
       "      <td>chickenboiledandshredded onionmedium bur black...</td>\n",
       "    </tr>\n",
       "    <tr>\n",
       "      <td>3</td>\n",
       "      <td>2 INGREDIENTS CHOCOLATE MOUSSE</td>\n",
       "      <td>[CookingChocolate/Milkchocolate200g, Whippingc...</td>\n",
       "      <td>CookingChocolate/Milkchocolate200g Whippingcre...</td>\n",
       "      <td>cookingchocolatemilkchocolateg whippingcreams</td>\n",
       "    </tr>\n",
       "    <tr>\n",
       "      <td>4</td>\n",
       "      <td>KARACHI FAMOUS STUDENT BIRYANI</td>\n",
       "      <td>[RiceBasmati1/2kg, Chicken1/2kg, Redchilipowde...</td>\n",
       "      <td>RiceBasmati1/2kg Chicken1/2kg Redchilipowder1t...</td>\n",
       "      <td>ricebmati chicken redchili blackpepper whitepe...</td>\n",
       "    </tr>\n",
       "  </tbody>\n",
       "</table>\n",
       "</div>"
      ],
      "text/plain": [
       "                          recipie  \\\n",
       "0         KALAKAND SWEET / MITHAI   \n",
       "1           ARIZONA CHICKEN STEAK   \n",
       "2              CHICKEN CREAMY PIE   \n",
       "3  2 INGREDIENTS CHOCOLATE MOUSSE   \n",
       "4  KARACHI FAMOUS STUDENT BIRYANI   \n",
       "\n",
       "                                         ingredients  \\\n",
       "0  [Milkpowder2cups, Sugar1/2cuportotaste, Cream2...   \n",
       "1  [Chickenfillets2flattened, Salttotatse, Whitep...   \n",
       "2  [Chickenboiledandshredded1cup, Onionchopped1me...   \n",
       "3  [CookingChocolate/Milkchocolate200g, Whippingc...   \n",
       "4  [RiceBasmati1/2kg, Chicken1/2kg, Redchilipowde...   \n",
       "\n",
       "                                                 ing  \\\n",
       "0  Milkpowder2cups Sugar1/2cuportotaste Cream200m...   \n",
       "1  Chickenfillets2flattened Salttotatse Whitepepp...   \n",
       "2  Chickenboiledandshredded1cup Onionchopped1medi...   \n",
       "3  CookingChocolate/Milkchocolate200g Whippingcre...   \n",
       "4  RiceBasmati1/2kg Chicken1/2kg Redchilipowder1t...   \n",
       "\n",
       "                                             ing_mod  \n",
       "0                      milks sugarortotte cream nuts  \n",
       "1  chickenfilletsflaned salttotatse whitepepper b...  \n",
       "2  chickenboiledandshredded onionmedium bur black...  \n",
       "3      cookingchocolatemilkchocolateg whippingcreams  \n",
       "4  ricebmati chicken redchili blackpepper whitepe...  "
      ]
     },
     "execution_count": 12,
     "metadata": {},
     "output_type": "execute_result"
    }
   ],
   "source": [
    "df.head()"
   ]
  },
  {
   "cell_type": "code",
   "execution_count": 13,
   "metadata": {},
   "outputs": [],
   "source": [
    "labels = list()\n",
    "for line in df.recipie:\n",
    "    labels.append(line)\n",
    "texts = list()\n",
    "for line in df.ing_mod:\n",
    "    texts.append( line )\n",
    "lengths = list()\n",
    "for text in texts:\n",
    "    lengths.append( len( text.split() ) )\n",
    "maxlen = max( lengths )\n",
    "labels = np.array( labels )\n",
    "texts = np.array( texts )"
   ]
  },
  {
   "cell_type": "code",
   "execution_count": 14,
   "metadata": {},
   "outputs": [
    {
     "data": {
      "text/plain": [
       "58"
      ]
     },
     "execution_count": 14,
     "metadata": {},
     "output_type": "execute_result"
    }
   ],
   "source": [
    "maxlen"
   ]
  },
  {
   "cell_type": "code",
   "execution_count": 15,
   "metadata": {},
   "outputs": [
    {
     "data": {
      "text/plain": [
       "1721"
      ]
     },
     "execution_count": 15,
     "metadata": {},
     "output_type": "execute_result"
    }
   ],
   "source": [
    "len(labels)"
   ]
  },
  {
   "cell_type": "code",
   "execution_count": 16,
   "metadata": {},
   "outputs": [],
   "source": [
    "import tensorflow as tf"
   ]
  },
  {
   "cell_type": "code",
   "execution_count": 17,
   "metadata": {},
   "outputs": [],
   "source": [
    "from sklearn import preprocessing"
   ]
  },
  {
   "cell_type": "code",
   "execution_count": 18,
   "metadata": {},
   "outputs": [],
   "source": [
    "le = preprocessing.LabelEncoder()"
   ]
  },
  {
   "cell_type": "code",
   "execution_count": 34,
   "metadata": {},
   "outputs": [
    {
     "data": {
      "text/plain": [
       "LabelEncoder()"
      ]
     },
     "execution_count": 34,
     "metadata": {},
     "output_type": "execute_result"
    }
   ],
   "source": [
    "le.fit(labels)"
   ]
  },
  {
   "cell_type": "code",
   "execution_count": 20,
   "metadata": {},
   "outputs": [
    {
     "name": "stdout",
     "output_type": "stream",
     "text": [
      "(1721, 58)\n",
      "(1721, 1721)\n",
      "MESSAGE MAXLEN = 58\n",
      "Data processed.\n"
     ]
    }
   ],
   "source": [
    "tokenizer = tf.keras.preprocessing.text.Tokenizer()\n",
    "tokenizer.fit_on_texts( texts )\n",
    "tokenized_messages = tokenizer.texts_to_sequences( texts )\n",
    "padded_messages = tf.keras.preprocessing.sequence.pad_sequences( tokenized_messages , maxlen )\n",
    "onehot_labels = tf.keras.utils.to_categorical( list(le.transform(labels)) , num_classes=1721 )\n",
    "\n",
    "X = padded_messages\n",
    "Y = onehot_labels\n",
    "\n",
    "print( X.shape )\n",
    "print( Y.shape )\n",
    "print( 'MESSAGE MAXLEN = {}'.format( maxlen ) )\n",
    "\n",
    "output_path = 'processed_data/'\n",
    "np.save( '{}x.npy'.format( output_path )  , X )\n",
    "np.save( '{}y.npy'.format( output_path )  , Y )\n",
    "\n",
    "with open( 'processed_data/word_dict.json' , 'w' ) as file:\n",
    "    json.dump( tokenizer.word_index , file )\n",
    "\n",
    "print( 'Data processed.')"
   ]
  },
  {
   "cell_type": "code",
   "execution_count": 21,
   "metadata": {},
   "outputs": [],
   "source": [
    "with open('processed_data/vocab.txt' , 'w') as file:\n",
    "    for key in tokenizer.word_index.keys():\n",
    "        file.write(key+' '+str(tokenizer.word_index[key])+'\\n')"
   ]
  },
  {
   "cell_type": "code",
   "execution_count": 22,
   "metadata": {},
   "outputs": [],
   "source": [
    "with open('processed_data/labels.txt' , 'w') as file:\n",
    "    for label in labels:\n",
    "        file.write(label+'\\n')"
   ]
  },
  {
   "cell_type": "code",
   "execution_count": 23,
   "metadata": {},
   "outputs": [
    {
     "name": "stdout",
     "output_type": "stream",
     "text": [
      "(1721, 58)\n",
      "(1721, 1721)\n"
     ]
    }
   ],
   "source": [
    "from tensorflow.python.keras.callbacks import TensorBoard\n",
    "import numpy as np\n",
    "import time\n",
    "\n",
    "X = np.load( 'processed_data/x.npy')\n",
    "Y = np.load( 'processed_data/y.npy')\n",
    "\n",
    "print( X.shape )\n",
    "print( Y.shape )\n",
    "\n",
    "# classifier = Classifier( number_of_classes=1721 , maxlen=102 )\n",
    "# #classifier.load_model( 'models/model.h5' )\n",
    "\n",
    "# parameters = {\n",
    "#     'batch_size' : 100 ,\n",
    "#     'epochs' : 100 ,\n",
    "#     'callbacks' : [ TensorBoard( log_dir='logs/{}'.format( time.time() ) ) ] ,\n",
    "#     'val_data' : ( test_X , test_Y )\n",
    "# }\n",
    "# classifier.fit( X , Y , parameters )\n",
    "# classifier.save_model( 'models/model.h5')\n",
    "\n",
    "# loss , accuracy = classifier.evaluate( test_X , test_Y )\n",
    "# print( \"Loss of {}\".format( loss ) , \"Accuracy of {} %\".format( accuracy * 100 ) )\n",
    "\n",
    "\n",
    "input_dim = X.shape[1]  # Number of features\n",
    "\n",
    "model = Sequential()\n",
    "model.add(layers.Dense(10, input_dim=input_dim, activation='relu'))\n",
    "model.add(layers.Dense(1721, activation='sigmoid'))\n"
   ]
  },
  {
   "cell_type": "code",
   "execution_count": 24,
   "metadata": {},
   "outputs": [
    {
     "name": "stdout",
     "output_type": "stream",
     "text": [
      "Model: \"sequential_1\"\n",
      "_________________________________________________________________\n",
      "Layer (type)                 Output Shape              Param #   \n",
      "=================================================================\n",
      "dense_1 (Dense)              (None, 10)                590       \n",
      "_________________________________________________________________\n",
      "dense_2 (Dense)              (None, 1721)              18931     \n",
      "=================================================================\n",
      "Total params: 19,521\n",
      "Trainable params: 19,521\n",
      "Non-trainable params: 0\n",
      "_________________________________________________________________\n",
      "Train on 1721 samples, validate on 1721 samples\n",
      "Epoch 1/100\n",
      "1721/1721 [==============================] - 1s 536us/step - loss: 1.7418 - accuracy: 0.9320 - val_loss: 0.0688 - val_accuracy: 0.9944\n",
      "Epoch 2/100\n",
      "1721/1721 [==============================] - 1s 468us/step - loss: 0.0611 - accuracy: 0.9962 - val_loss: 0.0485 - val_accuracy: 0.9976\n",
      "Epoch 3/100\n",
      "1721/1721 [==============================] - 1s 346us/step - loss: 0.0480 - accuracy: 0.9979 - val_loss: 0.0398 - val_accuracy: 0.9984\n",
      "Epoch 4/100\n",
      "1721/1721 [==============================] - 1s 318us/step - loss: 0.0401 - accuracy: 0.9984 - val_loss: 0.0335 - val_accuracy: 0.9987\n",
      "Epoch 5/100\n",
      "1721/1721 [==============================] - 1s 317us/step - loss: 0.0341 - accuracy: 0.9987 - val_loss: 0.0282 - val_accuracy: 0.9989\n",
      "Epoch 6/100\n",
      "1721/1721 [==============================] - 1s 318us/step - loss: 0.0294 - accuracy: 0.9988 - val_loss: 0.0245 - val_accuracy: 0.9989\n",
      "Epoch 7/100\n",
      "1721/1721 [==============================] - 1s 320us/step - loss: 0.0258 - accuracy: 0.9988 - val_loss: 0.0217 - val_accuracy: 0.9990\n",
      "Epoch 8/100\n",
      "1721/1721 [==============================] - 1s 316us/step - loss: 0.0233 - accuracy: 0.9989 - val_loss: 0.0194 - val_accuracy: 0.9991\n",
      "Epoch 9/100\n",
      "1721/1721 [==============================] - 1s 327us/step - loss: 0.0211 - accuracy: 0.9989 - val_loss: 0.0174 - val_accuracy: 0.9991\n",
      "Epoch 10/100\n",
      "1721/1721 [==============================] - 1s 340us/step - loss: 0.0193 - accuracy: 0.9989 - val_loss: 0.0163 - val_accuracy: 0.9990\n",
      "Epoch 11/100\n",
      "1721/1721 [==============================] - 1s 347us/step - loss: 0.0180 - accuracy: 0.9990 - val_loss: 0.0153 - val_accuracy: 0.9990\n",
      "Epoch 12/100\n",
      "1721/1721 [==============================] - 1s 437us/step - loss: 0.0170 - accuracy: 0.9990 - val_loss: 0.0142 - val_accuracy: 0.9991\n",
      "Epoch 13/100\n",
      "1721/1721 [==============================] - 1s 446us/step - loss: 0.0161 - accuracy: 0.9990 - val_loss: 0.0136 - val_accuracy: 0.9991\n",
      "Epoch 14/100\n",
      "1721/1721 [==============================] - 1s 329us/step - loss: 0.0154 - accuracy: 0.9990 - val_loss: 0.0132 - val_accuracy: 0.9991\n",
      "Epoch 15/100\n",
      "1721/1721 [==============================] - 1s 342us/step - loss: 0.0147 - accuracy: 0.9990 - val_loss: 0.0124 - val_accuracy: 0.9991\n",
      "Epoch 16/100\n",
      "1721/1721 [==============================] - 1s 331us/step - loss: 0.0142 - accuracy: 0.9990 - val_loss: 0.0119 - val_accuracy: 0.9992\n",
      "Epoch 17/100\n",
      "1721/1721 [==============================] - 1s 341us/step - loss: 0.0137 - accuracy: 0.9991 - val_loss: 0.0114 - val_accuracy: 0.9992\n",
      "Epoch 18/100\n",
      "1721/1721 [==============================] - 1s 339us/step - loss: 0.0131 - accuracy: 0.9991 - val_loss: 0.0111 - val_accuracy: 0.9992\n",
      "Epoch 19/100\n",
      "1721/1721 [==============================] - 1s 343us/step - loss: 0.0130 - accuracy: 0.9991 - val_loss: 0.0107 - val_accuracy: 0.9992\n",
      "Epoch 20/100\n",
      "1721/1721 [==============================] - 1s 337us/step - loss: 0.0124 - accuracy: 0.9991 - val_loss: 0.0107 - val_accuracy: 0.9992\n",
      "Epoch 21/100\n",
      "1721/1721 [==============================] - 1s 424us/step - loss: 0.0122 - accuracy: 0.9991 - val_loss: 0.0104 - val_accuracy: 0.9991\n",
      "Epoch 22/100\n",
      "1721/1721 [==============================] - 1s 352us/step - loss: 0.0119 - accuracy: 0.9991 - val_loss: 0.0099 - val_accuracy: 0.9992\n",
      "Epoch 23/100\n",
      "1721/1721 [==============================] - 1s 359us/step - loss: 0.0114 - accuracy: 0.9991 - val_loss: 0.0100 - val_accuracy: 0.9991\n",
      "Epoch 24/100\n",
      "1721/1721 [==============================] - 1s 358us/step - loss: 0.0111 - accuracy: 0.9991 - val_loss: 0.0096 - val_accuracy: 0.9991\n",
      "Epoch 25/100\n",
      "1721/1721 [==============================] - 1s 355us/step - loss: 0.0107 - accuracy: 0.9991 - val_loss: 0.0093 - val_accuracy: 0.9991\n",
      "Epoch 26/100\n",
      "1721/1721 [==============================] - 1s 353us/step - loss: 0.0106 - accuracy: 0.9991 - val_loss: 0.0090 - val_accuracy: 0.9992\n",
      "Epoch 27/100\n",
      "1721/1721 [==============================] - 1s 360us/step - loss: 0.0103 - accuracy: 0.9991 - val_loss: 0.0085 - val_accuracy: 0.9993\n",
      "Epoch 28/100\n",
      "1721/1721 [==============================] - 1s 353us/step - loss: 0.0100 - accuracy: 0.9992 - val_loss: 0.0085 - val_accuracy: 0.9992\n",
      "Epoch 29/100\n",
      "1721/1721 [==============================] - 1s 375us/step - loss: 0.0097 - accuracy: 0.9991 - val_loss: 0.0084 - val_accuracy: 0.9992\n",
      "Epoch 30/100\n",
      "1721/1721 [==============================] - 1s 363us/step - loss: 0.0096 - accuracy: 0.9991 - val_loss: 0.0080 - val_accuracy: 0.9993\n",
      "Epoch 31/100\n",
      "1721/1721 [==============================] - 1s 401us/step - loss: 0.0093 - accuracy: 0.9992 - val_loss: 0.0078 - val_accuracy: 0.9993\n",
      "Epoch 32/100\n",
      "1721/1721 [==============================] - 1s 414us/step - loss: 0.0092 - accuracy: 0.9991 - val_loss: 0.0078 - val_accuracy: 0.9993\n",
      "Epoch 33/100\n",
      "1721/1721 [==============================] - 1s 400us/step - loss: 0.0090 - accuracy: 0.9992 - val_loss: 0.0074 - val_accuracy: 0.9993\n",
      "Epoch 34/100\n",
      "1721/1721 [==============================] - 1s 396us/step - loss: 0.0088 - accuracy: 0.9992 - val_loss: 0.0072 - val_accuracy: 0.9993\n",
      "Epoch 35/100\n",
      "1721/1721 [==============================] - 1s 402us/step - loss: 0.0084 - accuracy: 0.9992 - val_loss: 0.0070 - val_accuracy: 0.9993\n",
      "Epoch 36/100\n",
      "1721/1721 [==============================] - 1s 402us/step - loss: 0.0082 - accuracy: 0.9992 - val_loss: 0.0066 - val_accuracy: 0.9993\n",
      "Epoch 37/100\n",
      "1721/1721 [==============================] - 1s 400us/step - loss: 0.0078 - accuracy: 0.9992 - val_loss: 0.0065 - val_accuracy: 0.9993\n",
      "Epoch 38/100\n",
      "1721/1721 [==============================] - 1s 398us/step - loss: 0.0076 - accuracy: 0.9992 - val_loss: 0.0065 - val_accuracy: 0.9993\n",
      "Epoch 39/100\n",
      "1721/1721 [==============================] - 1s 408us/step - loss: 0.0075 - accuracy: 0.9992 - val_loss: 0.0062 - val_accuracy: 0.9993\n",
      "Epoch 40/100\n",
      "1721/1721 [==============================] - 1s 411us/step - loss: 0.0074 - accuracy: 0.9992 - val_loss: 0.0059 - val_accuracy: 0.9994\n",
      "Epoch 41/100\n",
      "1721/1721 [==============================] - 1s 409us/step - loss: 0.0070 - accuracy: 0.9992 - val_loss: 0.0059 - val_accuracy: 0.9993\n",
      "Epoch 42/100\n",
      "1721/1721 [==============================] - 1s 411us/step - loss: 0.0069 - accuracy: 0.9992 - val_loss: 0.0059 - val_accuracy: 0.9993\n",
      "Epoch 43/100\n",
      "1721/1721 [==============================] - 1s 409us/step - loss: 0.0067 - accuracy: 0.9992 - val_loss: 0.0055 - val_accuracy: 0.9993\n",
      "Epoch 44/100\n",
      "1721/1721 [==============================] - 1s 409us/step - loss: 0.0065 - accuracy: 0.9992 - val_loss: 0.0054 - val_accuracy: 0.9993\n",
      "Epoch 45/100\n",
      "1721/1721 [==============================] - 1s 408us/step - loss: 0.0065 - accuracy: 0.9992 - val_loss: 0.0055 - val_accuracy: 0.9993\n",
      "Epoch 46/100\n",
      "1721/1721 [==============================] - 1s 407us/step - loss: 0.0065 - accuracy: 0.9992 - val_loss: 0.0053 - val_accuracy: 0.9993\n",
      "Epoch 47/100\n",
      "1721/1721 [==============================] - 1s 599us/step - loss: 0.0061 - accuracy: 0.9992 - val_loss: 0.0048 - val_accuracy: 0.9994\n",
      "Epoch 48/100\n",
      "1721/1721 [==============================] - 1s 672us/step - loss: 0.0057 - accuracy: 0.9993 - val_loss: 0.0047 - val_accuracy: 0.9993\n",
      "Epoch 49/100\n",
      "1721/1721 [==============================] - 1s 676us/step - loss: 0.0056 - accuracy: 0.9993 - val_loss: 0.0049 - val_accuracy: 0.9993\n",
      "Epoch 50/100\n",
      "1721/1721 [==============================] - 1s 588us/step - loss: 0.0057 - accuracy: 0.9992 - val_loss: 0.0055 - val_accuracy: 0.9994\n",
      "Epoch 51/100\n",
      "1721/1721 [==============================] - 1s 454us/step - loss: 0.0059 - accuracy: 0.9992 - val_loss: 0.0047 - val_accuracy: 0.9993\n"
     ]
    },
    {
     "name": "stdout",
     "output_type": "stream",
     "text": [
      "Epoch 52/100\n",
      "1721/1721 [==============================] - 1s 403us/step - loss: 0.0055 - accuracy: 0.9993 - val_loss: 0.0045 - val_accuracy: 0.9993\n",
      "Epoch 53/100\n",
      "1721/1721 [==============================] - 1s 400us/step - loss: 0.0054 - accuracy: 0.9993 - val_loss: 0.0044 - val_accuracy: 0.9994\n",
      "Epoch 54/100\n",
      "1721/1721 [==============================] - 1s 404us/step - loss: 0.0052 - accuracy: 0.9993 - val_loss: 0.0043 - val_accuracy: 0.9993\n",
      "Epoch 55/100\n",
      "1721/1721 [==============================] - 1s 406us/step - loss: 0.0054 - accuracy: 0.9993 - val_loss: 0.0049 - val_accuracy: 0.9992\n",
      "Epoch 56/100\n",
      "1721/1721 [==============================] - 1s 404us/step - loss: 0.0057 - accuracy: 0.9992 - val_loss: 0.0045 - val_accuracy: 0.9993\n",
      "Epoch 57/100\n",
      "1721/1721 [==============================] - 1s 407us/step - loss: 0.0051 - accuracy: 0.9993 - val_loss: 0.0040 - val_accuracy: 0.9994\n",
      "Epoch 58/100\n",
      "1721/1721 [==============================] - 1s 403us/step - loss: 0.0046 - accuracy: 0.9993 - val_loss: 0.0037 - val_accuracy: 0.9994\n",
      "Epoch 59/100\n",
      "1721/1721 [==============================] - 1s 401us/step - loss: 0.0045 - accuracy: 0.9993 - val_loss: 0.0037 - val_accuracy: 0.9994\n",
      "Epoch 60/100\n",
      "1721/1721 [==============================] - 1s 404us/step - loss: 0.0044 - accuracy: 0.9993 - val_loss: 0.0036 - val_accuracy: 0.9994\n",
      "Epoch 61/100\n",
      "1721/1721 [==============================] - 1s 403us/step - loss: 0.0042 - accuracy: 0.9993 - val_loss: 0.0036 - val_accuracy: 0.9994\n",
      "Epoch 62/100\n",
      "1721/1721 [==============================] - 1s 407us/step - loss: 0.0043 - accuracy: 0.9993 - val_loss: 0.0041 - val_accuracy: 0.9993\n",
      "Epoch 63/100\n",
      "1721/1721 [==============================] - 1s 409us/step - loss: 0.0046 - accuracy: 0.9993 - val_loss: 0.0037 - val_accuracy: 0.9994\n",
      "Epoch 64/100\n",
      "1721/1721 [==============================] - 1s 407us/step - loss: 0.0045 - accuracy: 0.9993 - val_loss: 0.0038 - val_accuracy: 0.9993\n",
      "Epoch 65/100\n",
      "1721/1721 [==============================] - 1s 402us/step - loss: 0.0043 - accuracy: 0.9993 - val_loss: 0.0034 - val_accuracy: 0.9994\n",
      "Epoch 66/100\n",
      "1721/1721 [==============================] - 1s 402us/step - loss: 0.0043 - accuracy: 0.9993 - val_loss: 0.0034 - val_accuracy: 0.9994\n",
      "Epoch 67/100\n",
      "1721/1721 [==============================] - 1s 406us/step - loss: 0.0040 - accuracy: 0.9993 - val_loss: 0.0035 - val_accuracy: 0.9993\n",
      "Epoch 68/100\n",
      "1721/1721 [==============================] - 1s 402us/step - loss: 0.0041 - accuracy: 0.9993 - val_loss: 0.0034 - val_accuracy: 0.9994\n",
      "Epoch 69/100\n",
      "1721/1721 [==============================] - 1s 405us/step - loss: 0.0039 - accuracy: 0.9993 - val_loss: 0.0043 - val_accuracy: 0.9994\n",
      "Epoch 70/100\n",
      "1721/1721 [==============================] - 1s 403us/step - loss: 0.0042 - accuracy: 0.9993 - val_loss: 0.0035 - val_accuracy: 0.9993\n",
      "Epoch 71/100\n",
      "1721/1721 [==============================] - 1s 401us/step - loss: 0.0039 - accuracy: 0.9993 - val_loss: 0.0032 - val_accuracy: 0.9994\n",
      "Epoch 72/100\n",
      "1721/1721 [==============================] - 1s 404us/step - loss: 0.0037 - accuracy: 0.9993 - val_loss: 0.0030 - val_accuracy: 0.9994\n",
      "Epoch 73/100\n",
      "1721/1721 [==============================] - 1s 418us/step - loss: 0.0036 - accuracy: 0.9993 - val_loss: 0.0029 - val_accuracy: 0.9994\n",
      "Epoch 74/100\n",
      "1721/1721 [==============================] - 1s 440us/step - loss: 0.0037 - accuracy: 0.9993 - val_loss: 0.0030 - val_accuracy: 0.9994\n",
      "Epoch 75/100\n",
      "1721/1721 [==============================] - 1s 439us/step - loss: 0.0040 - accuracy: 0.9993 - val_loss: 0.0034 - val_accuracy: 0.9994\n",
      "Epoch 76/100\n",
      "1721/1721 [==============================] - 1s 590us/step - loss: 0.0041 - accuracy: 0.9993 - val_loss: 0.0037 - val_accuracy: 0.9994\n",
      "Epoch 77/100\n",
      "1721/1721 [==============================] - 1s 445us/step - loss: 0.0039 - accuracy: 0.9993 - val_loss: 0.0032 - val_accuracy: 0.9994\n",
      "Epoch 78/100\n",
      "1721/1721 [==============================] - 1s 378us/step - loss: 0.0038 - accuracy: 0.9993 - val_loss: 0.0032 - val_accuracy: 0.9994\n",
      "Epoch 79/100\n",
      "1721/1721 [==============================] - 1s 378us/step - loss: 0.0037 - accuracy: 0.9993 - val_loss: 0.0031 - val_accuracy: 0.9994\n",
      "Epoch 80/100\n",
      "1721/1721 [==============================] - 1s 381us/step - loss: 0.0037 - accuracy: 0.9993 - val_loss: 0.0030 - val_accuracy: 0.9994\n",
      "Epoch 81/100\n",
      "1721/1721 [==============================] - 1s 390us/step - loss: 0.0035 - accuracy: 0.9993 - val_loss: 0.0031 - val_accuracy: 0.9994\n",
      "Epoch 82/100\n",
      "1721/1721 [==============================] - 1s 415us/step - loss: 0.0037 - accuracy: 0.9993 - val_loss: 0.0029 - val_accuracy: 0.9994\n",
      "Epoch 83/100\n",
      "1721/1721 [==============================] - 1s 388us/step - loss: 0.0034 - accuracy: 0.9993 - val_loss: 0.0029 - val_accuracy: 0.9994\n",
      "Epoch 84/100\n",
      "1721/1721 [==============================] - 1s 380us/step - loss: 0.0034 - accuracy: 0.9993 - val_loss: 0.0027 - val_accuracy: 0.9994\n",
      "Epoch 85/100\n",
      "1721/1721 [==============================] - 1s 382us/step - loss: 0.0034 - accuracy: 0.9993 - val_loss: 0.0031 - val_accuracy: 0.9993\n",
      "Epoch 86/100\n",
      "1721/1721 [==============================] - 1s 378us/step - loss: 0.0036 - accuracy: 0.9993 - val_loss: 0.0029 - val_accuracy: 0.9994\n",
      "Epoch 87/100\n",
      "1721/1721 [==============================] - 1s 378us/step - loss: 0.0035 - accuracy: 0.9993 - val_loss: 0.0027 - val_accuracy: 0.9994\n",
      "Epoch 88/100\n",
      "1721/1721 [==============================] - 1s 390us/step - loss: 0.0035 - accuracy: 0.9993 - val_loss: 0.0029 - val_accuracy: 0.9994\n",
      "Epoch 89/100\n",
      "1721/1721 [==============================] - 1s 382us/step - loss: 0.0035 - accuracy: 0.9993 - val_loss: 0.0030 - val_accuracy: 0.9994\n",
      "Epoch 90/100\n",
      "1721/1721 [==============================] - 1s 381us/step - loss: 0.0034 - accuracy: 0.9993 - val_loss: 0.0028 - val_accuracy: 0.9994\n",
      "Epoch 91/100\n",
      "1721/1721 [==============================] - 1s 378us/step - loss: 0.0034 - accuracy: 0.9993 - val_loss: 0.0030 - val_accuracy: 0.9993\n",
      "Epoch 92/100\n",
      "1721/1721 [==============================] - 1s 379us/step - loss: 0.0035 - accuracy: 0.9993 - val_loss: 0.0026 - val_accuracy: 0.9994\n",
      "Epoch 93/100\n",
      "1721/1721 [==============================] - 1s 391us/step - loss: 0.0032 - accuracy: 0.9993 - val_loss: 0.0026 - val_accuracy: 0.9994\n",
      "Epoch 94/100\n",
      "1721/1721 [==============================] - 1s 378us/step - loss: 0.0030 - accuracy: 0.9994 - val_loss: 0.0026 - val_accuracy: 0.9994\n",
      "Epoch 95/100\n",
      "1721/1721 [==============================] - 1s 391us/step - loss: 0.0030 - accuracy: 0.9994 - val_loss: 0.0026 - val_accuracy: 0.9994\n",
      "Epoch 96/100\n",
      "1721/1721 [==============================] - 1s 381us/step - loss: 0.0031 - accuracy: 0.9993 - val_loss: 0.0025 - val_accuracy: 0.9994\n",
      "Epoch 97/100\n",
      "1721/1721 [==============================] - 1s 387us/step - loss: 0.0036 - accuracy: 0.9993 - val_loss: 0.0031 - val_accuracy: 0.9994\n",
      "Epoch 98/100\n",
      "1721/1721 [==============================] - 1s 384us/step - loss: 0.0036 - accuracy: 0.9993 - val_loss: 0.0027 - val_accuracy: 0.9994\n",
      "Epoch 99/100\n",
      "1721/1721 [==============================] - 1s 372us/step - loss: 0.0034 - accuracy: 0.9993 - val_loss: 0.0031 - val_accuracy: 0.9994\n",
      "Epoch 100/100\n",
      "1721/1721 [==============================] - 1s 362us/step - loss: 0.0035 - accuracy: 0.9993 - val_loss: 0.0029 - val_accuracy: 0.9994\n"
     ]
    }
   ],
   "source": [
    "model.compile(loss='binary_crossentropy', \n",
    "              optimizer='adam', \n",
    "              metrics=['accuracy'])\n",
    "model.summary()\n",
    "\n",
    "history = model.fit(X, Y,\n",
    "                    epochs=100,\n",
    "                    verbose=True,\n",
    "                    validation_data=(X, Y),\n",
    "                    batch_size=10)"
   ]
  },
  {
   "cell_type": "code",
   "execution_count": 25,
   "metadata": {},
   "outputs": [],
   "source": [
    "model.save('processed_data/model.h5')"
   ]
  },
  {
   "cell_type": "code",
   "execution_count": 55,
   "metadata": {},
   "outputs": [
    {
     "data": {
      "text/plain": [
       "79348"
      ]
     },
     "execution_count": 55,
     "metadata": {},
     "output_type": "execute_result"
    }
   ],
   "source": [
    "keras_model_path = \"processed_data/model.h5\"\n",
    "import tensorflow as tf\n",
    "converter =  tf.compat.v1.lite.TFLiteConverter.from_keras_model_file( keras_model_path)\n",
    "tfmodel = converter.convert()\n",
    "open (\"model.tflite\" , \"wb\") .write(tfmodel)"
   ]
  },
  {
   "cell_type": "code",
   "execution_count": 48,
   "metadata": {},
   "outputs": [],
   "source": [
    "from keras.models import load_model\n",
    " \n",
    "# load model\n",
    "model = load_model('processed_data/model.h5')"
   ]
  },
  {
   "cell_type": "code",
   "execution_count": 46,
   "metadata": {},
   "outputs": [],
   "source": [
    "count = 0\n",
    "true_count = 0\n",
    "for index, row in df.iterrows():\n",
    "    arr = tf.keras.preprocessing.sequence.pad_sequences( tokenizer.texts_to_sequences([row['ing_mod']]) , maxlen )\n",
    "    res = model.predict_classes(arr)\n",
    "    res = le.inverse_transform(res)[0]\n",
    "    if res == row['recipie']:\n",
    "        true_count -=- 1\n",
    "    count -=- 1"
   ]
  },
  {
   "cell_type": "code",
   "execution_count": 47,
   "metadata": {},
   "outputs": [
    {
     "data": {
      "text/plain": [
       "1721"
      ]
     },
     "execution_count": 47,
     "metadata": {},
     "output_type": "execute_result"
    }
   ],
   "source": [
    "count"
   ]
  },
  {
   "cell_type": "code",
   "execution_count": 48,
   "metadata": {},
   "outputs": [
    {
     "data": {
      "text/plain": [
       "671"
      ]
     },
     "execution_count": 48,
     "metadata": {},
     "output_type": "execute_result"
    }
   ],
   "source": [
    "true_count"
   ]
  },
  {
   "cell_type": "code",
   "execution_count": 67,
   "metadata": {},
   "outputs": [],
   "source": [
    "arr = tf.keras.preprocessing.sequence.pad_sequences( tokenizer.texts_to_sequences(['milks sugarortotte cream nuts']) , maxlen )\n",
    "res = model.predict_classes(arr)\n",
    "res = le.inverse_transform(res)[0]"
   ]
  },
  {
   "cell_type": "code",
   "execution_count": 68,
   "metadata": {},
   "outputs": [
    {
     "data": {
      "text/plain": [
       "'Chicken Burger with Damigras Sauce Recipe in Urdu'"
      ]
     },
     "execution_count": 68,
     "metadata": {},
     "output_type": "execute_result"
    }
   ],
   "source": [
    "res"
   ]
  },
  {
   "cell_type": "code",
   "execution_count": 69,
   "metadata": {},
   "outputs": [
    {
     "data": {
      "text/plain": [
       "1.013279e-06"
      ]
     },
     "execution_count": 69,
     "metadata": {},
     "output_type": "execute_result"
    }
   ],
   "source": [
    "model.predict(arr)[0][667]"
   ]
  },
  {
   "cell_type": "code",
   "execution_count": 65,
   "metadata": {},
   "outputs": [
    {
     "data": {
      "text/plain": [
       "array([667], dtype=int64)"
      ]
     },
     "execution_count": 65,
     "metadata": {},
     "output_type": "execute_result"
    }
   ],
   "source": [
    "model.predict_classes(arr)"
   ]
  },
  {
   "cell_type": "code",
   "execution_count": 58,
   "metadata": {},
   "outputs": [],
   "source": [
    "new_model= tf.keras.models.load_model(filepath=keras_model_path)"
   ]
  },
  {
   "cell_type": "code",
   "execution_count": 59,
   "metadata": {},
   "outputs": [
    {
     "data": {
      "text/plain": [
       "79332"
      ]
     },
     "execution_count": 59,
     "metadata": {},
     "output_type": "execute_result"
    }
   ],
   "source": [
    "tflite_converter = tf.lite.TFLiteConverter.from_keras_model(new_model)\n",
    "tflite_model = tflite_converter.convert()\n",
    "open(\"tf_lite_model.tflite\", \"wb\").write(tflite_model)"
   ]
  },
  {
   "cell_type": "code",
   "execution_count": 78,
   "metadata": {},
   "outputs": [
    {
     "name": "stdout",
     "output_type": "stream",
     "text": [
      "done!\n"
     ]
    }
   ],
   "source": [
    "from sklearn.feature_extraction.text import TfidfVectorizer\n",
    "from sklearn.metrics.pairwise import linear_kernel\n",
    "\n",
    "ds= df\n",
    "tf = TfidfVectorizer(analyzer='word', ngram_range=(1, 3), min_df=0, stop_words='english')\n",
    "tfidf_matrix = tf.fit_transform(ds['ing_mod'])\n",
    "\n",
    "cosine_similarities = linear_kernel(tfidf_matrix, tfidf_matrix)\n",
    "\n",
    "results = {}\n",
    "\n",
    "for idx, row in ds.iterrows():\n",
    "    similar_indices = cosine_similarities[idx].argsort()[:-100:-1]\n",
    "    similar_items = [(cosine_similarities[idx][i], ds['recipie'][i]) for i in similar_indices]\n",
    "\n",
    "    results[row['recipie']] = similar_items[1:]\n",
    "    \n",
    "print('done!')\n"
   ]
  },
  {
   "cell_type": "code",
   "execution_count": 79,
   "metadata": {},
   "outputs": [
    {
     "name": "stdout",
     "output_type": "stream",
     "text": [
      "Recommending 5 products similar to milks sugarortotte cream nuts...\n",
      "-------\n",
      "Recommended: chikoomediumsize milkgls sugarortotte cream (score:0.23318662151369013)\n",
      "Recommended: mango milks sugarortotte pinchofsaffron iceneeded almondpistachiogarnish (score:0.19480188206886545)\n",
      "Recommended: chocolatechipsorcookingchocolatesemisweets condensedmilkcan margarineoranybur nuts (score:0.0896473587376921)\n",
      "Recommended: semolinasuji , soakinwater sugar water gheeor . cardamom- nuts (score:0.06835975674534608)\n",
      "Recommended: wontonsamosawraps burbrushing eggbrushing nuts date sugar water (score:0.06629981053412458)\n"
     ]
    }
   ],
   "source": [
    "\n",
    "def item(id):\n",
    "    return ds.loc[ds['recipie'] == id]['ing_mod'].tolist()[0].split(' - ')[0]\n",
    "\n",
    "# Just reads the results out of the dictionary.\n",
    "def recommend(item_id, num):\n",
    "    print(\"Recommending \" + str(num) + \" products similar to \" + item(item_id) + \"...\")\n",
    "    print(\"-------\")\n",
    "    recs = results[item_id][:num]\n",
    "    for rec in recs:\n",
    "        print(\"Recommended: \" + item(rec[1]) + \" (score:\" + str(rec[0]) + \")\")\n",
    "\n",
    "recommend(item_id='KALAKAND SWEET / MITHAI', num=5)\n"
   ]
  },
  {
   "cell_type": "code",
   "execution_count": 22,
   "metadata": {},
   "outputs": [],
   "source": [
    "import pandas as pd\n",
    "import numpy as np\n",
    "from nltk.tokenize import word_tokenize\n",
    "from sklearn.metrics.pairwise import cosine_similarity\n",
    "from sklearn.feature_extraction.text import CountVectorizer\n",
    "from sklearn.feature_extraction import text\n",
    "from sklearn.feature_extraction.text import TfidfTransformer\n",
    "from nltk.corpus import stopwords\n",
    "from sklearn.feature_extraction.text import TfidfVectorizer\n",
    "\n",
    "def read_data(path):\n",
    "\tted_data = pd.read_csv(path)\n",
    "\treturn ted_data\n",
    "\n",
    "def tf_idf(keys, dataframe, label, min_videos=10):\n",
    "    tfidf_vectorizer = TfidfVectorizer()\n",
    "    tfidf_matrix = tfidf_vectorizer.fit_transform(dataframe.loc[:, label])\n",
    "    with open('tf_idf','wb') as f:\n",
    "        pickle.dump(tfidf_matrix, f)\n",
    "    \n",
    "    with open('tf_idf_vec','wb') as f:\n",
    "        pickle.dump(tfidf_vectorizer, f)\n",
    "    query = tfidf_vectorizer.transform([keys])\n",
    "    cs = cosine_similarity(query, tfidf_matrix)\n",
    "    similarity_list = cs[0]\n",
    "    result_list = []\n",
    "    x = similarity_list\n",
    "    index = np.argwhere(x!=0)\n",
    "    data = {}\n",
    "    for ind in index:\n",
    "        data[ind[0]] = x[ind][0]\n",
    "    return data"
   ]
  },
  {
   "cell_type": "code",
   "execution_count": 23,
   "metadata": {},
   "outputs": [],
   "source": [
    "y = tf_idf('milk',df, 'ing_mod')"
   ]
  },
  {
   "cell_type": "code",
   "execution_count": 24,
   "metadata": {},
   "outputs": [],
   "source": [
    "y = {k: v for k, v in sorted(y.items(), key=lambda item: item[1], reverse=True)}"
   ]
  },
  {
   "cell_type": "code",
   "execution_count": 25,
   "metadata": {},
   "outputs": [
    {
     "name": "stdout",
     "output_type": "stream",
     "text": [
      "Home Made Khoya\n",
      "DULCE DE LECHE\n",
      "SUJI / SEMONILA KI METHAI\n",
      "Rasmalai\n",
      "Shahi Kulfa\n",
      "STRAWBERRY SHAKE\n",
      "QUICK PERAH/ PEDA- METHAI\n",
      "Easy Milk Burfi\n",
      "GAJAR/ CARROT HALWA IN MICROWAVE\n",
      "KALAKAND SWEET / MITHAI\n",
      "DOUBLE CHOCOLATE HOT MILK\n",
      "QUICK COCONUT ROLLS\n",
      "MILKY GULAB JAMUN\n",
      "Mocha Chino\n",
      "STRAWBERRY ICE CREAM SHAKE\n",
      "Quick Strawberry Ice Cream\n",
      "CHOCOLATE FUDGE CAKE – FROZEN THEME\n",
      "BAKERY BISCUITS – CHOCOLATE\n",
      "Kashmiri Gajraila\n",
      "DOUBLE CHOCOLATE BROWNIE\n",
      "Khopra Halwa\n",
      "MICRO CHOCO FUDGE CAKE\n",
      "BURNS ROAD KHEER\n",
      "Mango Kulfi\n",
      "FILLED CRESCENTS\n",
      "BAKE WITH S&S – GARLIC BREAD\n",
      "CARAMEL CREAMY MILK\n",
      "Homemade Doodh Peda Recipe – Milk Peda Recipe in Urdu\n",
      "HOME MADE KHOYA\n",
      "CHINIOTI KHEER\n",
      "BARFI- MILK FUDGE\n",
      "NANDOS PERI BITES\n",
      "EGG LESS GULAB JAMUNS\n",
      "Walnut Fig Ice Cream\n",
      "BREAD RASMALAI\n",
      "CREAMY FRUIT CHAAT\n",
      "Vanilla Biscuits\n",
      "Gajar ka Halwa\n",
      "Gajrela\n",
      "DOODH PATI CHAI\n",
      "SHEERMAL\n",
      "Brownie Fudge Ice Cream\n",
      "Egg Biscuits\n",
      "Kesar Peda – Saffron Almond Cookies\n",
      "CHOCOLATE MOCHA MUG CAKE\n",
      "DDL GAJAR KI KHER – SOFIA BAIG\n",
      "ZEBRA CAKE\n",
      "Sweet Potato Halwa\n",
      "UMM ALI- EGYPTIAN DESSERT\n",
      "Coffee Crunch Ice Cream\n",
      "Red velvet hot chocolate\n",
      "LAB E SHIREN\n",
      "DONUT – BAKERY STYLE\n",
      "KUNAFA – ARABIC DESSERT\n",
      "JELLY MELLY DRINK\n",
      "QUICK GAJJAR HALWA\n",
      "Til Gajjak\n",
      "NUTELLA FILLED CHOCOLATE\n",
      "Buffalo Chicken Tenders Recipe in Urdu\n",
      "Thandai\n",
      "SHAHI TUKRE- TRADITIONAL BREAD PUDDING\n",
      "BREAD HALWA\n",
      "CAKE RUSK\n",
      "MANGO JELLY MELLY SHAKE\n",
      "Potato Gratin\n",
      "Pathare Prabhu Roath Recipe (Semolina Cake) Recipe in Urdu\n",
      "Milk Bread\n",
      "OIL BROWNIES WITH ROASTED NUTS\n",
      "HOW TO MAKE A SIMPLE SPONGE\n",
      "COPYCAT OF DUNKIN DONUTS DONUTS\n",
      "Pop Corn Chicken (Ready to Cook) Recipe in Urdu\n",
      "ALMOND CAKE – HAJJ THEME CAKE\n",
      "Almond Milk\n",
      "Croissants (Breakfast Bun)\n",
      "Coconut Sago with Fresh Fruits\n",
      "BUTTER MILK CHOCOLATE SHEET CAKE- stove top\n",
      "Chicken Yellow Bhuna Recipe in  Urdu\n",
      "Onion Rings\n",
      "Cream of Almond Soup Recipe in Urdu\n",
      "CHANA DAL HALWA\n",
      "Mango Kulfi\n",
      "Mango Kesar Pista Kulfi\n",
      "Cinnamon Roll Cake\n",
      "GULAB JAMUN\n",
      "Date and Almond Shake\n",
      "MANGO SHAKE\n",
      "Cookies n Cream Ice Cream\n",
      "STRAWBERRY SMOOTHIE\n",
      "Mango Ice Cream\n",
      "FRENCH ALMOND FRITTERS\n",
      "2 INGREDIENTS CHOCOLATE MOUSSE\n",
      "SHEER KHURMA\n",
      "Pop Corn Chicken (Ready to Cook)\n",
      "CHOCOLATE CORNFLAKE CUPCAKES\n",
      "Tender Chicken Nuggets\n",
      "Choco Biscuits Slice\n",
      "Creamy Chicken Boti Recipe in Urdu\n",
      "Oreo Ice Cream\n",
      "Oreo Ice Cream\n",
      "JALEEBI PUDDING\n",
      "Choco-Nana Shake\n",
      "Date Smoothie\n",
      "Italian Chicken Puffs Recipe in Urdu\n",
      "HOME MADE FROZEN PARATHE\n",
      "CHIKOO SHAKE\n",
      "HOME MADE BUTTER FROM MALAI/CREAM\n",
      "Eggless French Toast\n",
      "Khoya Seekh Kabab Recipe in Urdu\n",
      "SANDWICH MAKER CAKE\n",
      "Chocolate Donuts\n",
      "MAGICAL MICROWAVE BROWNIE\n",
      "Raj Tukray\n",
      "Homemade Oreo Ice cream without Machine\n",
      "Homemade Oreo Ice cream without Machine\n",
      "RED VELVET CAKE\n",
      "QUICK MALAI TIKKA PIZZA\n",
      "GINGER TEA\n",
      "LEMON POPPY SEED TEA CAKE\n",
      "Custard Apple Ice Cream\n",
      "Gajar ka Halva\n",
      "Beef Baking Roll Recipe In Urdu\n",
      "Chicken Broast Recipe in Urdu\n",
      "Chicken Broast Recipe in Urdu\n",
      "Chicken Broast Recipe in Urdu\n",
      "Hoagie Burger Recipe in Urdu\n",
      "Hoagie Burger Recipe in Urdu\n",
      "Hoagie Burger Recipe in Urdu\n",
      "FRUIT PUNCH DELIGHT\n",
      "Pista Kulfi\n",
      "Beef Baking Roll Recipe In Urdu\n",
      "Baked Chicken Meatballs Recipe in Urdu\n",
      "Kimami Sevai\n",
      "2 Minute French Toast in a Cup\n",
      "2 Minute French Toast in a Cup\n",
      "Homemade Almond Roca\n",
      "COCONUT FIRNI\n",
      "Beef Bun\n",
      "COCONUT HALWA\n",
      "Bread Halwa\n",
      "Mocha Shake\n",
      "COCONUT CUPCAKES ON MOTHER’S DAY\n",
      "Chicken Alakiev Recipe in Urdu\n",
      "Marzipan Cookies\n",
      "Mango Milkshake\n",
      "PAKWAN- A TRADTIONAL SWEET\n",
      "Tarbooz ka Sharbat (Watermelon Juice)\n",
      "Almond Dessert (Badami Halwa)\n",
      "Almond Toffees\n",
      "SIVIYON KA ZARDA\n",
      "Masala Crispy Burger Recipe in Urdu\n",
      "Masala Crispy Burger Recipe in Urdu\n",
      "Masala Crispy Burger Recipe in Urdu\n",
      "Coconut Pudding Recipe in Urdu\n",
      "CRISPY PEANUT BUTTER BARS\n",
      "Dinner Roll\n",
      "Fruity Porridge\n",
      "ALMOND CAKE\n",
      "CREAMY CHICKEN POTATO ROLLS\n",
      "CARAMEL BROWNIE POKE CAKE\n",
      "OATS GAJRELA / KHEER\n",
      "BREAD GULAB JAMUN\n",
      "MINION JAM FILLED CUPCAKES\n",
      "AUTHENTIC BLACK FOREST CAKE\n",
      "Spiced Whole Wheat Cookie Recipe (Atta Biscuit) in Urdu\n",
      "Beef Panang Recipe in Urdu\n",
      "Homemade Kit Kat Bars Recipe in Urdu\n",
      "CHOCOLATE MOUSSE\n",
      "Badami Doodh Jalebi\n",
      "COCONUT MILK COFFEE\n",
      "CHOCOLATE MALT CAKE\n",
      "GAJRELLA CHEESE CAKE\n",
      "BUTTER SCOTCH CAKE\n",
      " Makahdi Halwa\n",
      "Oatmeal in A Mug\n",
      "Oatmeal in A Mug\n",
      "HOT COCOA WITH ALMOND MILK\n",
      "Baked Chicken and Corn Recipe in Urdu\n",
      "Poppy Seed Curry\n",
      "BASAN KI BARFI\n",
      "CHOCOLATE CAKE – BIRTHDAY BLAST\n",
      "Sweet Bakarkhani\n",
      "Melting White Hot Chocolate\n",
      "Crusted Cottage Cheese\n",
      "Barfi Aur Cake ka Mitha\n",
      "Tandori Chicken Masala Recipe in Urdu\n",
      "CHANE KI DAL KA HALWA\n",
      "BOHRA MALPUA/ MALFUA\n",
      "Makhmali Chicken\n",
      "GOSH-E-FEEL & KAHWA\n",
      "Gulab Jamun Surprise\n",
      "Khoay Kay Parathy (Sehri Special)\n",
      "NUTELLA AND FERRERO ROCHER EGG LESS CUPCAKES\n",
      "KASHMIRI TEA- PINK TEA- NUT CHAI\n",
      "CHOCO CARAMEL LATTE\n",
      "RICH CHOCOLATE CUPCAKES\n",
      "RICE KHEER -14 AUG SPECIAL.\n",
      "Sausage with Winter Mash\n",
      "Sausage with Winter Mash\n",
      "Custard Tart\n",
      "BREAD PUDDING CUPCAKES\n",
      "Bottle Gourd Dessert\n",
      "SPASAGNA (SPAGHETTI & LASAGNA)\n",
      "Paan Kulfi\n",
      "CHOCOLATE FUDGE- 3 INGREDIENTS\n",
      "GAJAR KA ZARDA\n",
      "KIT-KAT CREAM CAKE\n",
      "LOKI KA HALWA\n",
      "Italian Chicken Puffs\n",
      "Ice Cream Trifle\n",
      "BANANA COCONUT UPSIDE DOWN CAKE\n",
      "Monthal\n",
      "Gajar aur Khoye ka Halwa\n",
      "Sooji ka Halva\n",
      "TEA CAKE / PELA CAKE\n",
      "DAL DATE HALWA\n",
      "BANANA MUFFINS WITH CARAMEL TOPPING\n",
      "Shahjahani Biryani Recipe in Urdu\n",
      "Eggless Custard Apple Ice Cream with Caramelized Nuts\n",
      "Tandoori Chicken Pizza Recipe in Urdu\n",
      "Shimla Murgh Makhani Recipe in Urdu\n",
      "CHICKEN CREAMY PIE\n",
      "Cream Cheese Brownies Square\n",
      "OSTEOPOROSIS- THE SILENT THIEF\n",
      "ALMOND CAKE\n",
      "Egg Halwa\n",
      "Multani Sohan Halwa\n",
      "Murgh Makai Recipe in Urdu\n",
      "BISCUIT AND COCONUT ROLLS\n",
      "MARBLE CAKE\n",
      "Chicken Maryland Recipe in Urdu\n",
      "Chicken Broccoli Creamy Style Recipe in Urdu\n",
      "Chicken Broccoli Creamy Style Recipe in Urdu\n",
      "Chicken Broccoli Creamy Style Recipe in Urdu\n",
      "NUTELLA AND NUTS STUFF FRENCH TOAST\n",
      "Tandori Chicken Masala\n",
      "Veggie Penne Pasta Recipe In Creamy Roasted Carrot Sauce Recipe in Urdu\n",
      "Gram Flour Dessert (Besan ka Halwa)\n",
      "Kesar Peach Rabdi (Saffron Peach Rabdi)\n",
      "Chinese Style Bun\n",
      "NUTELLA/CHOCOLATE AND NUT TWISTERS.\n",
      "Cream of Fresh Asparagus Soup II Recipe in Urdu\n",
      "Farfalle Pasta Recipe In a Creamy Mushroom Sauce Recipe in Urdu\n",
      "Saffron Lassi \n",
      "Badam ka Halwa \n",
      "CRISPY CHEESY SANDWICH\n",
      "DOUGHNUTS WITH CHOCOLATE GLAZE\n",
      "CREAM PUFFS OR ECLAIRS OR PROFITEROLES\n",
      "Date Fudge\n",
      "Arabic Stuffed Paratha\n",
      "Pink Lady\n",
      "Christmas Jelly Slice\n",
      "CHICKEN FRIED SANDWICH\n",
      "New York Cheese Cake Ice Cream\n",
      "Cappuccino Chocolates\n",
      "Gheekawar Ka Halwa\n",
      "Masala Crispy Burger \n",
      "Lasagna Recipe in Urdu\n",
      "Beef Panang\n",
      "Crunchy Chicken Burger\n",
      "Crunchy Chicken Burger Recipe in Urdu\n",
      "Crunchy Chicken Burger Recipe in Urdu\n",
      "Crunchy Chicken Burger Recipe in Urdu\n",
      "Hyderabadi Rice Recipe in Urdu\n",
      "CHICKEN NUGGETS\n",
      "Thumb Print Cookies\n",
      "Thumb Print Cookies\n",
      "Delicious Skillet Plum Cake Recipe in Urdu\n",
      "Pasta in Roasted Carrot & Red Pepper Sauce Recipes in Urdu\n",
      "Creamy Corn Pudding (Makki Ki Firni) Recipe in Urdu\n",
      "Jelly Slices \n",
      "EGG FRIED RICE- RESTAURANT STYLE\n",
      "Eggless Marble Cake Recipe in Urdu\n",
      "Chicken Lasaniya Recipe in Urdu\n",
      "Plum Smoothie\n",
      "NUTELLA LAYERED NAAN/ BREAD\n",
      "Award Winning Peaches and Cream Pie Recipe in Urdu\n",
      "Mughlai Pulao Nargasi\n",
      "HOT CHOCOLATE STICKS\n",
      "Bun Kabab\n",
      "Dal Makhani \n",
      "GOND KA HALWA\n",
      "Strawberry Cake\n",
      "Muffin-Topped Winter Beef Stew Recipe in Urdu\n",
      "Triple Chocolate Parfait\n",
      "Mocha Frappuccino\n",
      "NO BAKE CHOCOLATE ECLAIR DESSERT\n",
      "Eggless Lemon Pound Cake Recipe in Urdu\n",
      "Chicken Burgers with Coleslaw Recipe in Urdu\n",
      "Chicken Burgers with Coleslaw Recipe in Urdu\n",
      "Chicken Burgers with Coleslaw Recipe in Urdu\n",
      "Pasta Payasam Recipe – Fusion Payasam With Pasta\n",
      "Pasta Payasam Recipe – Fusion Payasam With Pasta\n",
      "Pasta Payasam Recipe – Fusion Payasam With Pasta\n",
      "Japanese Cotton Cheesecake Recipe in Urdu\n",
      "American Grilled Juicy Burger Recipe in Urdu\n",
      "American Grilled Juicy Burger Recipe in Urdu\n",
      "American Grilled Juicy Burger Recipe in Urdu\n",
      "RED VELVET CUPCAKES\n",
      "STUFFED PANCAKES\n",
      "Besan kay Dahi Baray\n",
      "Iced Espresso\n",
      "EASY TIRAMISU\n",
      "Roasted Carrots & Mushroom Pasta In White Sauce Recipe in Urdu\n",
      "Baked Chocolate Doughnuts\n",
      "SESAME FRIED CHICKEN WITH RANCH DIP\n",
      "The Croque Madame Sandwich Recipe in Urdu\n",
      "The Croque Madame Sandwich Recipe in Urdu\n",
      "The Croque Madame Sandwich Recipe in Urdu\n",
      "Chicken Rendang with Nasi Lemak Recipe in Urdu\n",
      "Muffin-Topped Winter Beef Stew \n",
      "Iced and Spiced Biscuits\n",
      "Lemon Gooey Butter Cake \n",
      "Crispy Chicken Burger\n",
      "Baked Cheesy Broccoli Pasta Recipe in Urdu\n",
      "SPAGHETTI TIKKA PIZZA\n",
      "Pasta In Spinach Basil Sauce Recipe\n",
      "SHAHI CUSTARD\n",
      "Chocolate Vanilla Cookies\n",
      "Coffee Sundae\n",
      "Chicken Enchiladas II Recipe in Urdu\n",
      "Aloo kay Dahi Baray\n",
      "Penne Pasta Recipe In Spinach Pesto Sauce Recipe in Urdu\n",
      "Penne Pasta Recipe In Spinach Pesto Sauce Recipe in Urdu\n",
      "Penne Pasta Recipe In Spinach Pesto Sauce Recipe in Urdu\n",
      "Roasted Vegetable Au Gratin Recipe in Urdu\n",
      "Date And Walnut Whole Wheat Eggless Brownie Recipe in Urdu\n",
      "Penne Pasta With Veggies in Tomato Base Recipe\n",
      "Khoya Gajrela\n",
      "Eggless Chocolate Ragi Cake – Pressure Cooker Cake (Sand/ Salt Oven Method) Recipe in Urdu\n",
      "Chicken Roll Ups\n",
      "Chili Chicken Pizza Recipe in Urdu\n",
      "Orange Sandesh\n",
      "Cheddar Oven Fried Chicken with Cheesy Herb Sauce Recipe in Urdu\n",
      "Eggless Whole wheat And Orange Almond Cake Recipe in Urdu\n",
      "CHOCOLATE MALTESERS CAKE\n",
      "Fruity Falooda\n",
      "Stuffed Whole Chicken with Pasta\n",
      "CHOCOLATE CHUNK COOKIES\n",
      "Coconut Cake\n",
      "KACHE GHOST KI BIRYANI\n",
      "Big Farm Fresh Pizza Recipe Loaded With Crisp Veggies Recipe in Urdu\n",
      "Best Ever American Burgers \n",
      "BAKED PASTA\n",
      "Lemon Sparkle Cupcakes\n",
      "Maple Sweet Potato Bread Recipe in Urdu\n",
      "Thai Coconut Soup Recipe in Urdu\n",
      "Grilled Chicken Spaghetti Pasta With Herbs\n",
      "Banana Split Cupcake\n",
      "Peri Bites\n",
      "Qeema Naan\n",
      "Qeema Naan\n",
      "Sweet and Spicy Pineapple Paneer Tikka Tawa Pizza Recipe in Urdu\n"
     ]
    }
   ],
   "source": [
    "for k in y.keys():\n",
    "    print(df.iloc[k]['recipie'])"
   ]
  },
  {
   "cell_type": "code",
   "execution_count": 5,
   "metadata": {},
   "outputs": [],
   "source": [
    "with open('recipes.json', encoding=\"utf8\") as f:\n",
    "    data = json.load(f)\n",
    "\n",
    "df = json_normalize(data[2]['data'])"
   ]
  },
  {
   "cell_type": "code",
   "execution_count": 6,
   "metadata": {},
   "outputs": [
    {
     "data": {
      "text/html": [
       "<div>\n",
       "<style scoped>\n",
       "    .dataframe tbody tr th:only-of-type {\n",
       "        vertical-align: middle;\n",
       "    }\n",
       "\n",
       "    .dataframe tbody tr th {\n",
       "        vertical-align: top;\n",
       "    }\n",
       "\n",
       "    .dataframe thead th {\n",
       "        text-align: right;\n",
       "    }\n",
       "</style>\n",
       "<table border=\"1\" class=\"dataframe\">\n",
       "  <thead>\n",
       "    <tr style=\"text-align: right;\">\n",
       "      <th></th>\n",
       "      <th>id</th>\n",
       "      <th>name</th>\n",
       "      <th>ingredients</th>\n",
       "      <th>method</th>\n",
       "      <th>image</th>\n",
       "      <th>video</th>\n",
       "    </tr>\n",
       "  </thead>\n",
       "  <tbody>\n",
       "    <tr>\n",
       "      <td>0</td>\n",
       "      <td>1</td>\n",
       "      <td>KALAKAND SWEET / MITHAI</td>\n",
       "      <td>Milk powder 2 cups~Sugar  1/2 cup or to taste~...</td>\n",
       "      <td>In a heat resistant bowl add powder milk, crea...</td>\n",
       "      <td>http://www.ainycooks.com/wp-content/uploads/20...</td>\n",
       "      <td>https://www.youtube.com/embed/8ApA0f7vs00</td>\n",
       "    </tr>\n",
       "    <tr>\n",
       "      <td>1</td>\n",
       "      <td>2</td>\n",
       "      <td>ARIZONA CHICKEN STEAK</td>\n",
       "      <td>Chicken fillets 2 flattened~Salt to tatse~Whit...</td>\n",
       "      <td>Marinate chicken fillet with salt, pepper, mus...</td>\n",
       "      <td>http://www.ainycooks.com/wp-content/uploads/20...</td>\n",
       "      <td>None</td>\n",
       "    </tr>\n",
       "    <tr>\n",
       "      <td>2</td>\n",
       "      <td>3</td>\n",
       "      <td>CHICKEN CREAMY PIE</td>\n",
       "      <td>Chicken boiled and shredded  1 cup~Onion chopp...</td>\n",
       "      <td>In a pan add butter and onion, stir it for few...</td>\n",
       "      <td>http://www.ainycooks.com/wp-content/uploads/20...</td>\n",
       "      <td>None</td>\n",
       "    </tr>\n",
       "    <tr>\n",
       "      <td>3</td>\n",
       "      <td>4</td>\n",
       "      <td>2 INGREDIENTS CHOCOLATE MOUSSE</td>\n",
       "      <td>Cooking Chocolate / Milk chocolate  200g~Whipp...</td>\n",
       "      <td>Add 1/2 cup cream in chocolate and microwave i...</td>\n",
       "      <td>http://www.ainycooks.com/wp-content/uploads/20...</td>\n",
       "      <td>None</td>\n",
       "    </tr>\n",
       "    <tr>\n",
       "      <td>4</td>\n",
       "      <td>5</td>\n",
       "      <td>KARACHI FAMOUS STUDENT BIRYANI</td>\n",
       "      <td>Rice Basmati 1/2 kg~Chicken  1/2 kg~Red chili ...</td>\n",
       "      <td>Soak rice for 20 minutes.~Boil rice and add sa...</td>\n",
       "      <td>http://www.ainycooks.com/wp-content/uploads/20...</td>\n",
       "      <td>None</td>\n",
       "    </tr>\n",
       "  </tbody>\n",
       "</table>\n",
       "</div>"
      ],
      "text/plain": [
       "  id                            name  \\\n",
       "0  1         KALAKAND SWEET / MITHAI   \n",
       "1  2           ARIZONA CHICKEN STEAK   \n",
       "2  3              CHICKEN CREAMY PIE   \n",
       "3  4  2 INGREDIENTS CHOCOLATE MOUSSE   \n",
       "4  5  KARACHI FAMOUS STUDENT BIRYANI   \n",
       "\n",
       "                                         ingredients  \\\n",
       "0  Milk powder 2 cups~Sugar  1/2 cup or to taste~...   \n",
       "1  Chicken fillets 2 flattened~Salt to tatse~Whit...   \n",
       "2  Chicken boiled and shredded  1 cup~Onion chopp...   \n",
       "3  Cooking Chocolate / Milk chocolate  200g~Whipp...   \n",
       "4  Rice Basmati 1/2 kg~Chicken  1/2 kg~Red chili ...   \n",
       "\n",
       "                                              method  \\\n",
       "0  In a heat resistant bowl add powder milk, crea...   \n",
       "1  Marinate chicken fillet with salt, pepper, mus...   \n",
       "2  In a pan add butter and onion, stir it for few...   \n",
       "3  Add 1/2 cup cream in chocolate and microwave i...   \n",
       "4  Soak rice for 20 minutes.~Boil rice and add sa...   \n",
       "\n",
       "                                               image  \\\n",
       "0  http://www.ainycooks.com/wp-content/uploads/20...   \n",
       "1  http://www.ainycooks.com/wp-content/uploads/20...   \n",
       "2  http://www.ainycooks.com/wp-content/uploads/20...   \n",
       "3  http://www.ainycooks.com/wp-content/uploads/20...   \n",
       "4  http://www.ainycooks.com/wp-content/uploads/20...   \n",
       "\n",
       "                                       video  \n",
       "0  https://www.youtube.com/embed/8ApA0f7vs00  \n",
       "1                                       None  \n",
       "2                                       None  \n",
       "3                                       None  \n",
       "4                                       None  "
      ]
     },
     "execution_count": 6,
     "metadata": {},
     "output_type": "execute_result"
    }
   ],
   "source": [
    "df.head()"
   ]
  },
  {
   "cell_type": "code",
   "execution_count": 7,
   "metadata": {},
   "outputs": [
    {
     "data": {
      "text/plain": [
       "0       Milk powder 2 cups~Sugar  1/2 cup or to taste~...\n",
       "1       Chicken fillets 2 flattened~Salt to tatse~Whit...\n",
       "2       Chicken boiled and shredded  1 cup~Onion chopp...\n",
       "3       Cooking Chocolate / Milk chocolate  200g~Whipp...\n",
       "4       Rice Basmati 1/2 kg~Chicken  1/2 kg~Red chili ...\n",
       "                              ...                        \n",
       "1716    1-1/2 cups  Milk~1/2 teaspoon  Cardamom Powder...\n",
       "1717    1 cup  Sooji (Semolina/ Rava)~3/4 cup  Sugar~1...\n",
       "1718    1/2 cup  All Purpose Flour (Maida)~1 cup  Almo...\n",
       "1719    1/2 cup  Beetroot Puree , steamed and pureed~1...\n",
       "1720    1 cup  All Purpose Flour (Maida)~1/4 cup  Whol...\n",
       "Name: ingredients, Length: 1721, dtype: object"
      ]
     },
     "execution_count": 7,
     "metadata": {},
     "output_type": "execute_result"
    }
   ],
   "source": [
    "df['ingredients']"
   ]
  },
  {
   "cell_type": "code",
   "execution_count": 10,
   "metadata": {},
   "outputs": [],
   "source": [
    "import re\n",
    "from nltk.corpus import stopwords\n",
    "from nltk.tokenize import word_tokenize\n",
    "\n",
    "datas = []\n",
    "for index, row in df.iterrows():\n",
    "    ings = row['ingredients']\n",
    "    s=re.sub(r'\\(.*oz.\\)|kg|½|¾|¼|-|crushed|crumbles|ground|minced|tsp|tbsp|required|powder|chopped|sliced|pinch|cups|cup|/|ml|[0-9]',\n",
    "                             '', \n",
    "                             ings)\n",
    "    \n",
    "    #Remove Digits\n",
    "    s=re.sub(r\"(\\d)\", \"\", s)\n",
    "    \n",
    "    #Remove content inside paranthesis\n",
    "    s=re.sub(r'\\([^)]*\\)', '', s)\n",
    "    \n",
    "    \n",
    "    s=s.lower()\n",
    "    \n",
    "    #Remove Stop Words\n",
    "    stop_words = set(stopwords.words('english'))\n",
    "    word_tokens = word_tokenize(s)\n",
    "    filtered_sentence = [w for w in word_tokens if not w in stop_words]\n",
    "    filtered_sentence = []\n",
    "    for w in word_tokens:\n",
    "        if w not in stop_words:\n",
    "            filtered_sentence.append(w)\n",
    "    s= ' '.join(filtered_sentence)\n",
    "    \n",
    "    ings = s.split('~')\n",
    "    data = {}\n",
    "    data['recipie'] = row['name']\n",
    "    data['ingredients'] = ings\n",
    "    datas.append(data)"
   ]
  },
  {
   "cell_type": "code",
   "execution_count": 11,
   "metadata": {},
   "outputs": [],
   "source": [
    "df = json_normalize(datas)"
   ]
  },
  {
   "cell_type": "code",
   "execution_count": 12,
   "metadata": {},
   "outputs": [
    {
     "data": {
      "text/html": [
       "<div>\n",
       "<style scoped>\n",
       "    .dataframe tbody tr th:only-of-type {\n",
       "        vertical-align: middle;\n",
       "    }\n",
       "\n",
       "    .dataframe tbody tr th {\n",
       "        vertical-align: top;\n",
       "    }\n",
       "\n",
       "    .dataframe thead th {\n",
       "        text-align: right;\n",
       "    }\n",
       "</style>\n",
       "<table border=\"1\" class=\"dataframe\">\n",
       "  <thead>\n",
       "    <tr style=\"text-align: right;\">\n",
       "      <th></th>\n",
       "      <th>recipie</th>\n",
       "      <th>ingredients</th>\n",
       "    </tr>\n",
       "  </thead>\n",
       "  <tbody>\n",
       "    <tr>\n",
       "      <td>0</td>\n",
       "      <td>KALAKAND SWEET / MITHAI</td>\n",
       "      <td>[milk , sugar taste, cream , nuts]</td>\n",
       "    </tr>\n",
       "    <tr>\n",
       "      <td>1</td>\n",
       "      <td>ARIZONA CHICKEN STEAK</td>\n",
       "      <td>[chicken fillets flattened, salt tatse, white ...</td>\n",
       "    </tr>\n",
       "    <tr>\n",
       "      <td>2</td>\n",
       "      <td>CHICKEN CREAMY PIE</td>\n",
       "      <td>[chicken boiled shredded , onion medium , butt...</td>\n",
       "    </tr>\n",
       "    <tr>\n",
       "      <td>3</td>\n",
       "      <td>2 INGREDIENTS CHOCOLATE MOUSSE</td>\n",
       "      <td>[cooking chocolate milk chocolate g, whipping ...</td>\n",
       "    </tr>\n",
       "    <tr>\n",
       "      <td>4</td>\n",
       "      <td>KARACHI FAMOUS STUDENT BIRYANI</td>\n",
       "      <td>[rice basmati , chicken , red chili , black pe...</td>\n",
       "    </tr>\n",
       "  </tbody>\n",
       "</table>\n",
       "</div>"
      ],
      "text/plain": [
       "                          recipie  \\\n",
       "0         KALAKAND SWEET / MITHAI   \n",
       "1           ARIZONA CHICKEN STEAK   \n",
       "2              CHICKEN CREAMY PIE   \n",
       "3  2 INGREDIENTS CHOCOLATE MOUSSE   \n",
       "4  KARACHI FAMOUS STUDENT BIRYANI   \n",
       "\n",
       "                                         ingredients  \n",
       "0                 [milk , sugar taste, cream , nuts]  \n",
       "1  [chicken fillets flattened, salt tatse, white ...  \n",
       "2  [chicken boiled shredded , onion medium , butt...  \n",
       "3  [cooking chocolate milk chocolate g, whipping ...  \n",
       "4  [rice basmati , chicken , red chili , black pe...  "
      ]
     },
     "execution_count": 12,
     "metadata": {},
     "output_type": "execute_result"
    }
   ],
   "source": [
    "df.head()"
   ]
  },
  {
   "cell_type": "code",
   "execution_count": 13,
   "metadata": {},
   "outputs": [],
   "source": [
    "ings = []\n",
    "mod = []\n",
    "for index, row in df.iterrows():\n",
    "    ings.extend(row['ingredients'])\n",
    "    mod.append(' '.join(row['ingredients']))"
   ]
  },
  {
   "cell_type": "code",
   "execution_count": 14,
   "metadata": {},
   "outputs": [],
   "source": [
    "df['ing_mod'] = mod"
   ]
  },
  {
   "cell_type": "code",
   "execution_count": 15,
   "metadata": {},
   "outputs": [
    {
     "data": {
      "text/html": [
       "<div>\n",
       "<style scoped>\n",
       "    .dataframe tbody tr th:only-of-type {\n",
       "        vertical-align: middle;\n",
       "    }\n",
       "\n",
       "    .dataframe tbody tr th {\n",
       "        vertical-align: top;\n",
       "    }\n",
       "\n",
       "    .dataframe thead th {\n",
       "        text-align: right;\n",
       "    }\n",
       "</style>\n",
       "<table border=\"1\" class=\"dataframe\">\n",
       "  <thead>\n",
       "    <tr style=\"text-align: right;\">\n",
       "      <th></th>\n",
       "      <th>recipie</th>\n",
       "      <th>ingredients</th>\n",
       "      <th>ing_mod</th>\n",
       "    </tr>\n",
       "  </thead>\n",
       "  <tbody>\n",
       "    <tr>\n",
       "      <td>0</td>\n",
       "      <td>KALAKAND SWEET / MITHAI</td>\n",
       "      <td>[milk , sugar taste, cream , nuts]</td>\n",
       "      <td>milk  sugar taste cream  nuts</td>\n",
       "    </tr>\n",
       "    <tr>\n",
       "      <td>1</td>\n",
       "      <td>ARIZONA CHICKEN STEAK</td>\n",
       "      <td>[chicken fillets flattened, salt tatse, white ...</td>\n",
       "      <td>chicken fillets flattened salt tatse white pep...</td>\n",
       "    </tr>\n",
       "    <tr>\n",
       "      <td>2</td>\n",
       "      <td>CHICKEN CREAMY PIE</td>\n",
       "      <td>[chicken boiled shredded , onion medium , butt...</td>\n",
       "      <td>chicken boiled shredded  onion medium  butter ...</td>\n",
       "    </tr>\n",
       "    <tr>\n",
       "      <td>3</td>\n",
       "      <td>2 INGREDIENTS CHOCOLATE MOUSSE</td>\n",
       "      <td>[cooking chocolate milk chocolate g, whipping ...</td>\n",
       "      <td>cooking chocolate milk chocolate g whipping cream</td>\n",
       "    </tr>\n",
       "    <tr>\n",
       "      <td>4</td>\n",
       "      <td>KARACHI FAMOUS STUDENT BIRYANI</td>\n",
       "      <td>[rice basmati , chicken , red chili , black pe...</td>\n",
       "      <td>rice basmati  chicken  red chili  black pepper...</td>\n",
       "    </tr>\n",
       "  </tbody>\n",
       "</table>\n",
       "</div>"
      ],
      "text/plain": [
       "                          recipie  \\\n",
       "0         KALAKAND SWEET / MITHAI   \n",
       "1           ARIZONA CHICKEN STEAK   \n",
       "2              CHICKEN CREAMY PIE   \n",
       "3  2 INGREDIENTS CHOCOLATE MOUSSE   \n",
       "4  KARACHI FAMOUS STUDENT BIRYANI   \n",
       "\n",
       "                                         ingredients  \\\n",
       "0                 [milk , sugar taste, cream , nuts]   \n",
       "1  [chicken fillets flattened, salt tatse, white ...   \n",
       "2  [chicken boiled shredded , onion medium , butt...   \n",
       "3  [cooking chocolate milk chocolate g, whipping ...   \n",
       "4  [rice basmati , chicken , red chili , black pe...   \n",
       "\n",
       "                                             ing_mod  \n",
       "0                      milk  sugar taste cream  nuts  \n",
       "1  chicken fillets flattened salt tatse white pep...  \n",
       "2  chicken boiled shredded  onion medium  butter ...  \n",
       "3  cooking chocolate milk chocolate g whipping cream  \n",
       "4  rice basmati  chicken  red chili  black pepper...  "
      ]
     },
     "execution_count": 15,
     "metadata": {},
     "output_type": "execute_result"
    }
   ],
   "source": [
    "df.head()"
   ]
  },
  {
   "cell_type": "code",
   "execution_count": 16,
   "metadata": {},
   "outputs": [
    {
     "data": {
      "text/plain": [
       "20177"
      ]
     },
     "execution_count": 16,
     "metadata": {},
     "output_type": "execute_result"
    }
   ],
   "source": [
    "len(ings)"
   ]
  },
  {
   "cell_type": "code",
   "execution_count": 17,
   "metadata": {},
   "outputs": [
    {
     "data": {
      "text/plain": [
       "5565"
      ]
     },
     "execution_count": 17,
     "metadata": {},
     "output_type": "execute_result"
    }
   ],
   "source": [
    "len(set(ings))"
   ]
  },
  {
   "cell_type": "code",
   "execution_count": 149,
   "metadata": {},
   "outputs": [],
   "source": [
    "ings = list(set(ings))"
   ]
  },
  {
   "cell_type": "code",
   "execution_count": 150,
   "metadata": {},
   "outputs": [],
   "source": [
    "with open('ingredients.txt','w') as f:\n",
    "    for ing in ings:\n",
    "        f.write(ing.strip()+'\\n')"
   ]
  },
  {
   "cell_type": "code",
   "execution_count": 163,
   "metadata": {},
   "outputs": [],
   "source": [
    "df['ing_mod'] = mod"
   ]
  },
  {
   "cell_type": "code",
   "execution_count": 18,
   "metadata": {},
   "outputs": [],
   "source": [
    "import pickle"
   ]
  },
  {
   "cell_type": "code",
   "execution_count": 19,
   "metadata": {},
   "outputs": [],
   "source": [
    "with open('tf_idf','rb') as f:\n",
    "    new_tf_idf = pickle.load(f)"
   ]
  },
  {
   "cell_type": "code",
   "execution_count": 20,
   "metadata": {},
   "outputs": [],
   "source": [
    "with open('tf_idf_vec','rb') as f:\n",
    "    new_tf_idf_vec = pickle.load(f)"
   ]
  },
  {
   "cell_type": "code",
   "execution_count": 47,
   "metadata": {},
   "outputs": [],
   "source": [
    "from sklearn.metrics.pairwise import cosine_similarity\n",
    "import numpy as np\n",
    "# from sklearn.feature_extraction.text import CountVectorizer\n",
    "# from sklearn.feature_extraction import text\n",
    "# from sklearn.feature_extraction.text import TfidfTransformer\n",
    "# from nltk.corpus import stopwords\n",
    "# from sklearn.feature_extraction.text import TfidfVectorizer\n",
    "\n",
    "\n",
    "query = new_tf_idf_vec.transform(['butter'])\n",
    "cs = cosine_similarity(query, new_tf_idf)\n",
    "similarity_list = cs[0]\n",
    "result_list = []\n",
    "x = similarity_list\n",
    "index = np.argwhere(x!=0)\n",
    "data = {}\n",
    "for ind in index:\n",
    "    data[ind[0]] = x[ind][0]"
   ]
  },
  {
   "cell_type": "code",
   "execution_count": 49,
   "metadata": {},
   "outputs": [],
   "source": [
    "query = new_tf_idf_vec.transform(['chicken'])\n",
    "cs = cosine_similarity(query, new_tf_idf)\n",
    "similarity_list = cs[0]\n",
    "result_list = []\n",
    "x = similarity_list\n",
    "index = np.argwhere(x!=0)\n",
    "data_2 = {}\n",
    "for ind in index:\n",
    "    data_2[ind[0]] = x[ind][0]"
   ]
  },
  {
   "cell_type": "code",
   "execution_count": 61,
   "metadata": {},
   "outputs": [],
   "source": [
    "p_ings= ['milk','chicken']\n",
    "datas = []\n",
    "for p in p_ings:\n",
    "    query = new_tf_idf_vec.transform([p])\n",
    "    cs = cosine_similarity(query, new_tf_idf)\n",
    "    similarity_list = cs[0]\n",
    "    result_list = []\n",
    "    x = similarity_list\n",
    "    index = np.argwhere(x!=0)\n",
    "    data = {}\n",
    "    for ind in index:\n",
    "        data[ind[0]] = x[ind][0]\n",
    "    y = {k: v for k, v in sorted(data.items(), key=lambda item: item[1], reverse=True)}\n",
    "    datas.append(y)"
   ]
  },
  {
   "cell_type": "code",
   "execution_count": 62,
   "metadata": {},
   "outputs": [],
   "source": [
    "res = []\n",
    "for data in datas:\n",
    "    for k in data.keys():\n",
    "        res.append(df.iloc[k]['recipie'])"
   ]
  },
  {
   "cell_type": "code",
   "execution_count": 63,
   "metadata": {},
   "outputs": [
    {
     "data": {
      "text/plain": [
       "878"
      ]
     },
     "execution_count": 63,
     "metadata": {},
     "output_type": "execute_result"
    }
   ],
   "source": [
    "len(res)"
   ]
  },
  {
   "cell_type": "code",
   "execution_count": 68,
   "metadata": {},
   "outputs": [],
   "source": [
    "new_res = list(set([i for i in res if res.count(i)>1]))"
   ]
  },
  {
   "cell_type": "code",
   "execution_count": 69,
   "metadata": {},
   "outputs": [
    {
     "data": {
      "text/plain": [
       "91"
      ]
     },
     "execution_count": 69,
     "metadata": {},
     "output_type": "execute_result"
    }
   ],
   "source": [
    "len(new_res)"
   ]
  },
  {
   "cell_type": "code",
   "execution_count": 52,
   "metadata": {},
   "outputs": [],
   "source": [
    "res = []\n",
    "for k in data.keys():\n",
    "    res.append(df.iloc[k]['recipie'])"
   ]
  },
  {
   "cell_type": "code",
   "execution_count": 53,
   "metadata": {},
   "outputs": [],
   "source": [
    "res_2 = []\n",
    "for k in data_2.keys():\n",
    "    res_2.append(df.iloc[k]['recipie'])"
   ]
  },
  {
   "cell_type": "code",
   "execution_count": 55,
   "metadata": {},
   "outputs": [],
   "source": [
    "new_res = list(set(res).intersection(res_2))"
   ]
  },
  {
   "cell_type": "code",
   "execution_count": 56,
   "metadata": {},
   "outputs": [
    {
     "data": {
      "text/plain": [
       "61"
      ]
     },
     "execution_count": 56,
     "metadata": {},
     "output_type": "execute_result"
    }
   ],
   "source": [
    "len(new_res)"
   ]
  },
  {
   "cell_type": "code",
   "execution_count": 70,
   "metadata": {},
   "outputs": [
    {
     "data": {
      "text/plain": [
       "['Tandoori Chicken Pizza Recipe in Urdu',\n",
       " 'Cream of Fresh Asparagus Soup II Recipe in Urdu',\n",
       " 'Scrumptious Crispy Chicken Broast Recipe in Urdu',\n",
       " 'Oreo Ice Cream',\n",
       " 'Pop Corn Chicken (Ready to Cook)',\n",
       " 'Mango Kulfi',\n",
       " 'Chinese Style Bun',\n",
       " 'Chicken Fillet Burger Recipe in Urdu',\n",
       " 'SPAGHETTI TIKKA PIZZA',\n",
       " 'Chicken Maryland Recipe in Urdu',\n",
       " 'Crispy Fried Chicken Burger Recipe in Urdu',\n",
       " 'Tender Chicken Nuggets',\n",
       " 'Chicken Yellow Bhuna Recipe in  Urdu',\n",
       " 'Homemade Oreo Ice cream without Machine',\n",
       " 'CREAMY CHICKEN POTATO ROLLS',\n",
       " 'NANDOS PERI BITES',\n",
       " 'Thumb Print Cookies',\n",
       " 'Prawn Manchurian with Noodles Recipe in Urdu',\n",
       " 'Chicken Harissa',\n",
       " 'Tandori Chicken Masala',\n",
       " 'Pasta Payasam Recipe – Fusion Payasam With Pasta',\n",
       " 'QUICK MALAI TIKKA PIZZA',\n",
       " 'Special Crunchy Fillet Burger Recipe in Urdu',\n",
       " 'Italian Chicken Puffs',\n",
       " 'Zinger Style Burger Recipe in Urdu',\n",
       " 'Spanish Chicken Pulao Recipe in Urdu',\n",
       " 'Oatmeal in A Mug',\n",
       " 'Buffalo Chicken Tenders Recipe in Urdu',\n",
       " 'Beef Baking Roll Recipe In Urdu',\n",
       " 'Masala Crispy Burger ',\n",
       " 'Crunchy Chicken Burger',\n",
       " '2 Minute French Toast in a Cup',\n",
       " 'Chicken Burgers with Coleslaw Recipe in Urdu',\n",
       " 'Italian Chicken Puffs Recipe in Urdu',\n",
       " 'Stuffed Whole Chicken with Pasta',\n",
       " 'Chicken Rendang with Nasi Lemak Recipe in Urdu',\n",
       " 'Chicken Cheese Sandwich',\n",
       " 'Chicken Burger with Damigras Sauce Recipe in Urdu',\n",
       " 'Chipsi Mayai',\n",
       " 'Cheesy Spaghetti with Chicken Recipe in Urdu',\n",
       " 'Chicken Crispy Burger Recipe in Urdu',\n",
       " 'Bar B.Q Spaghetti Recipe in Urdu',\n",
       " 'Crunchy Fillet Burger Recipe in Urdu',\n",
       " 'Cucumber Stuffed Chicken And Prawns Recipe in Urdu',\n",
       " 'Chicken Tandoori Burger Recipe in Urdu',\n",
       " 'FILLED CRESCENTS',\n",
       " 'Grilled Chicken Spaghetti Pasta With Herbs',\n",
       " 'Chili Chicken Pizza Recipe in Urdu',\n",
       " 'Special Chicken Burger Recipe in Urdu',\n",
       " 'Chicken Broast Recipe in Urdu',\n",
       " 'Hoagie Burger Recipe in Urdu',\n",
       " 'Crispy Burger Recipe in Urdu',\n",
       " 'Chicken Lasaniya Recipe in Urdu',\n",
       " 'Tandori Chicken Masala Recipe in Urdu',\n",
       " 'Chicken Burger',\n",
       " 'Crunchy Chicken Burger Recipe in Urdu',\n",
       " 'Chicken Burger Recipe in Urdu',\n",
       " 'Cheddar Oven Fried Chicken with Cheesy Herb Sauce Recipe in Urdu',\n",
       " 'Prawn Special Soup Recipe in Urdu',\n",
       " 'Pop Corn Chicken (Ready to Cook) Recipe in Urdu',\n",
       " 'Chicken Enchiladas II Recipe in Urdu',\n",
       " 'Shimla Murgh Makhani Recipe in Urdu',\n",
       " 'SESAME FRIED CHICKEN WITH RANCH DIP',\n",
       " 'Peri Bites',\n",
       " 'CHICKEN NUGGETS',\n",
       " 'CHICKEN CREAMY PIE',\n",
       " 'Murgh Makai Recipe in Urdu',\n",
       " 'Baked Chicken and Corn Recipe in Urdu',\n",
       " 'American Grilled Juicy Burger Recipe in Urdu',\n",
       " 'ALMOND CAKE',\n",
       " 'Makhmali Chicken',\n",
       " 'Chicken Omelet',\n",
       " 'Hyderabadi Rice Recipe in Urdu',\n",
       " 'Chicken Roll Ups',\n",
       " 'EGG FRIED RICE- RESTAURANT STYLE',\n",
       " 'Creamy Chicken Boti Recipe in Urdu',\n",
       " 'CHICKEN FRIED SANDWICH',\n",
       " 'Penne Pasta Recipe In Spinach Pesto Sauce Recipe in Urdu',\n",
       " 'Masala Crispy Burger Recipe in Urdu',\n",
       " 'Crispy Chicken Burger',\n",
       " 'Chicken Broccoli Creamy Style Recipe in Urdu',\n",
       " 'Portuguese Chicken Burger Recipe in Urdu',\n",
       " 'Baked Chicken Meatballs Recipe in Urdu',\n",
       " 'The Croque Madame Sandwich Recipe in Urdu',\n",
       " 'Chicken Alakiev Recipe in Urdu',\n",
       " 'Sausage with Winter Mash',\n",
       " 'Qeema Naan',\n",
       " 'Thai Coconut Soup Recipe in Urdu',\n",
       " 'Shahjahani Biryani Recipe in Urdu',\n",
       " 'Special RFC Zinger Burger (Special Rahat’s Zinger Burger) Recipe in Urdu',\n",
       " 'CRISPY CHEESY SANDWICH']"
      ]
     },
     "execution_count": 70,
     "metadata": {},
     "output_type": "execute_result"
    }
   ],
   "source": [
    "new_res"
   ]
  },
  {
   "cell_type": "code",
   "execution_count": null,
   "metadata": {},
   "outputs": [],
   "source": []
  }
 ],
 "metadata": {
  "kernelspec": {
   "display_name": "Python 3",
   "language": "python",
   "name": "python3"
  },
  "language_info": {
   "codemirror_mode": {
    "name": "ipython",
    "version": 3
   },
   "file_extension": ".py",
   "mimetype": "text/x-python",
   "name": "python",
   "nbconvert_exporter": "python",
   "pygments_lexer": "ipython3",
   "version": "3.7.4"
  }
 },
 "nbformat": 4,
 "nbformat_minor": 2
}
